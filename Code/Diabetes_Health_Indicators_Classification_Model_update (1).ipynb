{
 "cells": [
  {
   "cell_type": "markdown",
   "id": "b8e6cbf2",
   "metadata": {
    "id": "b8e6cbf2"
   },
   "source": [
    "# Import Libraries"
   ]
  },
  {
   "cell_type": "code",
   "execution_count": 1,
   "id": "c9a3f193",
   "metadata": {},
   "outputs": [
    {
     "name": "stdout",
     "output_type": "stream",
     "text": [
      "Requirement already satisfied: xgboost in c:\\users\\lenovo\\anaconda3\\lib\\site-packages (1.5.1)\n",
      "Requirement already satisfied: scipy in c:\\users\\lenovo\\anaconda3\\lib\\site-packages (from xgboost) (1.6.2)\n",
      "Requirement already satisfied: numpy in c:\\users\\lenovo\\anaconda3\\lib\\site-packages (from xgboost) (1.20.1)\n",
      "Note: you may need to restart the kernel to use updated packages.\n"
     ]
    }
   ],
   "source": [
    "pip install xgboost"
   ]
  },
  {
   "cell_type": "code",
   "execution_count": 2,
   "id": "f22c14a9",
   "metadata": {
    "id": "f22c14a9"
   },
   "outputs": [],
   "source": [
    "#Python libraries\n",
    "#Classic,data manipulation \n",
    "import numpy as np\n",
    "import pandas as pd\n",
    "# Plots\n",
    "import matplotlib.pyplot as plt\n",
    "import seaborn as sns\n",
    "import warnings\n",
    "warnings.filterwarnings(\"ignore\")\n",
    "pd.set_option(\"display.max_rows\",None)\n",
    "from sklearn import preprocessing \n",
    "from sklearn.metrics import precision_score, recall_score, precision_recall_curve,f1_score, fbeta_score,accuracy_score\n",
    "%matplotlib inline\n",
    "import seaborn as sns\n",
    "from sklearn.model_selection import KFold\n",
    "from sklearn.ensemble import StackingClassifier\n",
    "\n",
    "from imblearn.over_sampling import SMOTE\n",
    "from imblearn.over_sampling import RandomOverSampler\n",
    "from imblearn.under_sampling import RandomUnderSampler \n",
    "from sklearn.metrics import fbeta_score, make_scorer\n",
    "from sklearn.model_selection import cross_validate\n",
    "from sklearn.metrics import roc_curve\n",
    "from sklearn.metrics import plot_roc_curve\n",
    "from xgboost import XGBClassifier\n",
    "from xgboost import XGBRegressor\n",
    "# Dataprep\n",
    "# Modeling \n",
    "from sklearn.preprocessing import MinMaxScaler, StandardScaler\n",
    "from sklearn.model_selection import cross_val_score \n",
    "from sklearn.model_selection import GridSearchCV\n",
    "from sklearn.linear_model import LogisticRegression\n",
    "from sklearn.tree import DecisionTreeClassifier\n",
    "from sklearn.neighbors import KNeighborsClassifier\n",
    "from sklearn.ensemble import RandomForestClassifier,VotingClassifier\n",
    "from imblearn.combine import SMOTEENN #resampling\n",
    "from sklearn import datasets, linear_model, metrics\n",
    "from sklearn.metrics import accuracy_score, confusion_matrix, classification_report\n",
    "from sklearn.preprocessing import StandardScaler\n",
    "from sklearn.model_selection import train_test_split\n",
    "#Import pipeline to allow you to do multiple steps at once\n",
    "from imblearn.pipeline import Pipeline, make_pipeline\n"
   ]
  },
  {
   "cell_type": "markdown",
   "id": "e7e90c47",
   "metadata": {
    "id": "e7e90c47"
   },
   "source": [
    "# Load Dataset "
   ]
  },
  {
   "cell_type": "code",
   "execution_count": 3,
   "id": "f3c8684e",
   "metadata": {
    "id": "f3c8684e"
   },
   "outputs": [],
   "source": [
    "df= pd.read_csv('diabetes_012_health_indicators_BRFSS2015.csv')\n"
   ]
  },
  {
   "cell_type": "markdown",
   "id": "9a467133",
   "metadata": {
    "id": "9a467133"
   },
   "source": [
    "# Explore Dataset"
   ]
  },
  {
   "cell_type": "code",
   "execution_count": 4,
   "id": "ca08bfbe",
   "metadata": {
    "colab": {
     "base_uri": "https://localhost:8080/"
    },
    "id": "ca08bfbe",
    "outputId": "1408f008-d4fa-47d5-e807-5868749fc9f4"
   },
   "outputs": [
    {
     "name": "stdout",
     "output_type": "stream",
     "text": [
      "<class 'pandas.core.frame.DataFrame'>\n",
      "RangeIndex: 253680 entries, 0 to 253679\n",
      "Data columns (total 22 columns):\n",
      " #   Column                Non-Null Count   Dtype  \n",
      "---  ------                --------------   -----  \n",
      " 0   Diabetes_012          253680 non-null  float64\n",
      " 1   HighBP                253680 non-null  float64\n",
      " 2   HighChol              253680 non-null  float64\n",
      " 3   CholCheck             253680 non-null  float64\n",
      " 4   BMI                   253680 non-null  float64\n",
      " 5   Smoker                253680 non-null  float64\n",
      " 6   Stroke                253680 non-null  float64\n",
      " 7   HeartDiseaseorAttack  253680 non-null  float64\n",
      " 8   PhysActivity          253680 non-null  float64\n",
      " 9   Fruits                253680 non-null  float64\n",
      " 10  Veggies               253680 non-null  float64\n",
      " 11  HvyAlcoholConsump     253680 non-null  float64\n",
      " 12  AnyHealthcare         253680 non-null  float64\n",
      " 13  NoDocbcCost           253680 non-null  float64\n",
      " 14  GenHlth               253680 non-null  float64\n",
      " 15  MentHlth              253680 non-null  float64\n",
      " 16  PhysHlth              253680 non-null  float64\n",
      " 17  DiffWalk              253680 non-null  float64\n",
      " 18  Sex                   253680 non-null  float64\n",
      " 19  Age                   253680 non-null  float64\n",
      " 20  Education             253680 non-null  float64\n",
      " 21  Income                253680 non-null  float64\n",
      "dtypes: float64(22)\n",
      "memory usage: 42.6 MB\n"
     ]
    }
   ],
   "source": [
    "df.info()"
   ]
  },
  {
   "cell_type": "code",
   "execution_count": 5,
   "id": "4bec0217",
   "metadata": {
    "colab": {
     "base_uri": "https://localhost:8080/"
    },
    "id": "4bec0217",
    "outputId": "3a91b116-3367-40be-e9fe-705d88b6be8d"
   },
   "outputs": [
    {
     "data": {
      "text/plain": [
       "(253680, 22)"
      ]
     },
     "execution_count": 5,
     "metadata": {},
     "output_type": "execute_result"
    }
   ],
   "source": [
    "df.shape"
   ]
  },
  {
   "cell_type": "code",
   "execution_count": 6,
   "id": "2b791aa7",
   "metadata": {
    "colab": {
     "base_uri": "https://localhost:8080/",
     "height": 383
    },
    "id": "2b791aa7",
    "outputId": "57f02845-0890-450c-842f-00d01f48a238"
   },
   "outputs": [
    {
     "data": {
      "text/html": [
       "<div>\n",
       "<style scoped>\n",
       "    .dataframe tbody tr th:only-of-type {\n",
       "        vertical-align: middle;\n",
       "    }\n",
       "\n",
       "    .dataframe tbody tr th {\n",
       "        vertical-align: top;\n",
       "    }\n",
       "\n",
       "    .dataframe thead th {\n",
       "        text-align: right;\n",
       "    }\n",
       "</style>\n",
       "<table border=\"1\" class=\"dataframe\">\n",
       "  <thead>\n",
       "    <tr style=\"text-align: right;\">\n",
       "      <th></th>\n",
       "      <th>Diabetes_012</th>\n",
       "      <th>HighBP</th>\n",
       "      <th>HighChol</th>\n",
       "      <th>CholCheck</th>\n",
       "      <th>BMI</th>\n",
       "      <th>Smoker</th>\n",
       "      <th>Stroke</th>\n",
       "      <th>HeartDiseaseorAttack</th>\n",
       "      <th>PhysActivity</th>\n",
       "      <th>Fruits</th>\n",
       "      <th>...</th>\n",
       "      <th>AnyHealthcare</th>\n",
       "      <th>NoDocbcCost</th>\n",
       "      <th>GenHlth</th>\n",
       "      <th>MentHlth</th>\n",
       "      <th>PhysHlth</th>\n",
       "      <th>DiffWalk</th>\n",
       "      <th>Sex</th>\n",
       "      <th>Age</th>\n",
       "      <th>Education</th>\n",
       "      <th>Income</th>\n",
       "    </tr>\n",
       "  </thead>\n",
       "  <tbody>\n",
       "    <tr>\n",
       "      <th>195653</th>\n",
       "      <td>0.0</td>\n",
       "      <td>1.0</td>\n",
       "      <td>1.0</td>\n",
       "      <td>1.0</td>\n",
       "      <td>38.0</td>\n",
       "      <td>0.0</td>\n",
       "      <td>0.0</td>\n",
       "      <td>0.0</td>\n",
       "      <td>1.0</td>\n",
       "      <td>0.0</td>\n",
       "      <td>...</td>\n",
       "      <td>1.0</td>\n",
       "      <td>0.0</td>\n",
       "      <td>3.0</td>\n",
       "      <td>8.0</td>\n",
       "      <td>3.0</td>\n",
       "      <td>0.0</td>\n",
       "      <td>0.0</td>\n",
       "      <td>10.0</td>\n",
       "      <td>6.0</td>\n",
       "      <td>8.0</td>\n",
       "    </tr>\n",
       "    <tr>\n",
       "      <th>98337</th>\n",
       "      <td>0.0</td>\n",
       "      <td>0.0</td>\n",
       "      <td>0.0</td>\n",
       "      <td>1.0</td>\n",
       "      <td>26.0</td>\n",
       "      <td>0.0</td>\n",
       "      <td>0.0</td>\n",
       "      <td>0.0</td>\n",
       "      <td>1.0</td>\n",
       "      <td>1.0</td>\n",
       "      <td>...</td>\n",
       "      <td>1.0</td>\n",
       "      <td>0.0</td>\n",
       "      <td>2.0</td>\n",
       "      <td>0.0</td>\n",
       "      <td>2.0</td>\n",
       "      <td>0.0</td>\n",
       "      <td>0.0</td>\n",
       "      <td>8.0</td>\n",
       "      <td>5.0</td>\n",
       "      <td>6.0</td>\n",
       "    </tr>\n",
       "    <tr>\n",
       "      <th>8550</th>\n",
       "      <td>0.0</td>\n",
       "      <td>0.0</td>\n",
       "      <td>1.0</td>\n",
       "      <td>1.0</td>\n",
       "      <td>38.0</td>\n",
       "      <td>1.0</td>\n",
       "      <td>0.0</td>\n",
       "      <td>1.0</td>\n",
       "      <td>1.0</td>\n",
       "      <td>0.0</td>\n",
       "      <td>...</td>\n",
       "      <td>1.0</td>\n",
       "      <td>0.0</td>\n",
       "      <td>4.0</td>\n",
       "      <td>20.0</td>\n",
       "      <td>30.0</td>\n",
       "      <td>1.0</td>\n",
       "      <td>0.0</td>\n",
       "      <td>8.0</td>\n",
       "      <td>4.0</td>\n",
       "      <td>2.0</td>\n",
       "    </tr>\n",
       "    <tr>\n",
       "      <th>225051</th>\n",
       "      <td>2.0</td>\n",
       "      <td>1.0</td>\n",
       "      <td>0.0</td>\n",
       "      <td>1.0</td>\n",
       "      <td>36.0</td>\n",
       "      <td>1.0</td>\n",
       "      <td>0.0</td>\n",
       "      <td>0.0</td>\n",
       "      <td>0.0</td>\n",
       "      <td>0.0</td>\n",
       "      <td>...</td>\n",
       "      <td>1.0</td>\n",
       "      <td>1.0</td>\n",
       "      <td>3.0</td>\n",
       "      <td>0.0</td>\n",
       "      <td>0.0</td>\n",
       "      <td>1.0</td>\n",
       "      <td>0.0</td>\n",
       "      <td>10.0</td>\n",
       "      <td>3.0</td>\n",
       "      <td>4.0</td>\n",
       "    </tr>\n",
       "    <tr>\n",
       "      <th>212998</th>\n",
       "      <td>0.0</td>\n",
       "      <td>0.0</td>\n",
       "      <td>0.0</td>\n",
       "      <td>1.0</td>\n",
       "      <td>32.0</td>\n",
       "      <td>0.0</td>\n",
       "      <td>0.0</td>\n",
       "      <td>0.0</td>\n",
       "      <td>1.0</td>\n",
       "      <td>0.0</td>\n",
       "      <td>...</td>\n",
       "      <td>0.0</td>\n",
       "      <td>0.0</td>\n",
       "      <td>3.0</td>\n",
       "      <td>0.0</td>\n",
       "      <td>10.0</td>\n",
       "      <td>0.0</td>\n",
       "      <td>0.0</td>\n",
       "      <td>4.0</td>\n",
       "      <td>5.0</td>\n",
       "      <td>4.0</td>\n",
       "    </tr>\n",
       "    <tr>\n",
       "      <th>103126</th>\n",
       "      <td>0.0</td>\n",
       "      <td>0.0</td>\n",
       "      <td>0.0</td>\n",
       "      <td>1.0</td>\n",
       "      <td>21.0</td>\n",
       "      <td>0.0</td>\n",
       "      <td>0.0</td>\n",
       "      <td>0.0</td>\n",
       "      <td>1.0</td>\n",
       "      <td>1.0</td>\n",
       "      <td>...</td>\n",
       "      <td>1.0</td>\n",
       "      <td>0.0</td>\n",
       "      <td>2.0</td>\n",
       "      <td>0.0</td>\n",
       "      <td>10.0</td>\n",
       "      <td>0.0</td>\n",
       "      <td>0.0</td>\n",
       "      <td>3.0</td>\n",
       "      <td>6.0</td>\n",
       "      <td>7.0</td>\n",
       "    </tr>\n",
       "    <tr>\n",
       "      <th>35199</th>\n",
       "      <td>0.0</td>\n",
       "      <td>0.0</td>\n",
       "      <td>1.0</td>\n",
       "      <td>1.0</td>\n",
       "      <td>31.0</td>\n",
       "      <td>1.0</td>\n",
       "      <td>0.0</td>\n",
       "      <td>0.0</td>\n",
       "      <td>1.0</td>\n",
       "      <td>0.0</td>\n",
       "      <td>...</td>\n",
       "      <td>1.0</td>\n",
       "      <td>0.0</td>\n",
       "      <td>3.0</td>\n",
       "      <td>2.0</td>\n",
       "      <td>0.0</td>\n",
       "      <td>0.0</td>\n",
       "      <td>1.0</td>\n",
       "      <td>9.0</td>\n",
       "      <td>6.0</td>\n",
       "      <td>7.0</td>\n",
       "    </tr>\n",
       "    <tr>\n",
       "      <th>7662</th>\n",
       "      <td>0.0</td>\n",
       "      <td>0.0</td>\n",
       "      <td>0.0</td>\n",
       "      <td>1.0</td>\n",
       "      <td>26.0</td>\n",
       "      <td>1.0</td>\n",
       "      <td>0.0</td>\n",
       "      <td>0.0</td>\n",
       "      <td>0.0</td>\n",
       "      <td>0.0</td>\n",
       "      <td>...</td>\n",
       "      <td>1.0</td>\n",
       "      <td>1.0</td>\n",
       "      <td>2.0</td>\n",
       "      <td>0.0</td>\n",
       "      <td>0.0</td>\n",
       "      <td>0.0</td>\n",
       "      <td>0.0</td>\n",
       "      <td>7.0</td>\n",
       "      <td>4.0</td>\n",
       "      <td>5.0</td>\n",
       "    </tr>\n",
       "    <tr>\n",
       "      <th>243536</th>\n",
       "      <td>0.0</td>\n",
       "      <td>0.0</td>\n",
       "      <td>0.0</td>\n",
       "      <td>1.0</td>\n",
       "      <td>19.0</td>\n",
       "      <td>1.0</td>\n",
       "      <td>0.0</td>\n",
       "      <td>0.0</td>\n",
       "      <td>1.0</td>\n",
       "      <td>1.0</td>\n",
       "      <td>...</td>\n",
       "      <td>1.0</td>\n",
       "      <td>0.0</td>\n",
       "      <td>2.0</td>\n",
       "      <td>1.0</td>\n",
       "      <td>0.0</td>\n",
       "      <td>0.0</td>\n",
       "      <td>0.0</td>\n",
       "      <td>12.0</td>\n",
       "      <td>5.0</td>\n",
       "      <td>7.0</td>\n",
       "    </tr>\n",
       "    <tr>\n",
       "      <th>214004</th>\n",
       "      <td>0.0</td>\n",
       "      <td>0.0</td>\n",
       "      <td>1.0</td>\n",
       "      <td>1.0</td>\n",
       "      <td>22.0</td>\n",
       "      <td>0.0</td>\n",
       "      <td>0.0</td>\n",
       "      <td>0.0</td>\n",
       "      <td>1.0</td>\n",
       "      <td>1.0</td>\n",
       "      <td>...</td>\n",
       "      <td>1.0</td>\n",
       "      <td>0.0</td>\n",
       "      <td>2.0</td>\n",
       "      <td>3.0</td>\n",
       "      <td>3.0</td>\n",
       "      <td>0.0</td>\n",
       "      <td>0.0</td>\n",
       "      <td>7.0</td>\n",
       "      <td>6.0</td>\n",
       "      <td>8.0</td>\n",
       "    </tr>\n",
       "  </tbody>\n",
       "</table>\n",
       "<p>10 rows × 22 columns</p>\n",
       "</div>"
      ],
      "text/plain": [
       "        Diabetes_012  HighBP  HighChol  CholCheck   BMI  Smoker  Stroke  \\\n",
       "195653           0.0     1.0       1.0        1.0  38.0     0.0     0.0   \n",
       "98337            0.0     0.0       0.0        1.0  26.0     0.0     0.0   \n",
       "8550             0.0     0.0       1.0        1.0  38.0     1.0     0.0   \n",
       "225051           2.0     1.0       0.0        1.0  36.0     1.0     0.0   \n",
       "212998           0.0     0.0       0.0        1.0  32.0     0.0     0.0   \n",
       "103126           0.0     0.0       0.0        1.0  21.0     0.0     0.0   \n",
       "35199            0.0     0.0       1.0        1.0  31.0     1.0     0.0   \n",
       "7662             0.0     0.0       0.0        1.0  26.0     1.0     0.0   \n",
       "243536           0.0     0.0       0.0        1.0  19.0     1.0     0.0   \n",
       "214004           0.0     0.0       1.0        1.0  22.0     0.0     0.0   \n",
       "\n",
       "        HeartDiseaseorAttack  PhysActivity  Fruits  ...  AnyHealthcare  \\\n",
       "195653                   0.0           1.0     0.0  ...            1.0   \n",
       "98337                    0.0           1.0     1.0  ...            1.0   \n",
       "8550                     1.0           1.0     0.0  ...            1.0   \n",
       "225051                   0.0           0.0     0.0  ...            1.0   \n",
       "212998                   0.0           1.0     0.0  ...            0.0   \n",
       "103126                   0.0           1.0     1.0  ...            1.0   \n",
       "35199                    0.0           1.0     0.0  ...            1.0   \n",
       "7662                     0.0           0.0     0.0  ...            1.0   \n",
       "243536                   0.0           1.0     1.0  ...            1.0   \n",
       "214004                   0.0           1.0     1.0  ...            1.0   \n",
       "\n",
       "        NoDocbcCost  GenHlth  MentHlth  PhysHlth  DiffWalk  Sex   Age  \\\n",
       "195653          0.0      3.0       8.0       3.0       0.0  0.0  10.0   \n",
       "98337           0.0      2.0       0.0       2.0       0.0  0.0   8.0   \n",
       "8550            0.0      4.0      20.0      30.0       1.0  0.0   8.0   \n",
       "225051          1.0      3.0       0.0       0.0       1.0  0.0  10.0   \n",
       "212998          0.0      3.0       0.0      10.0       0.0  0.0   4.0   \n",
       "103126          0.0      2.0       0.0      10.0       0.0  0.0   3.0   \n",
       "35199           0.0      3.0       2.0       0.0       0.0  1.0   9.0   \n",
       "7662            1.0      2.0       0.0       0.0       0.0  0.0   7.0   \n",
       "243536          0.0      2.0       1.0       0.0       0.0  0.0  12.0   \n",
       "214004          0.0      2.0       3.0       3.0       0.0  0.0   7.0   \n",
       "\n",
       "        Education  Income  \n",
       "195653        6.0     8.0  \n",
       "98337         5.0     6.0  \n",
       "8550          4.0     2.0  \n",
       "225051        3.0     4.0  \n",
       "212998        5.0     4.0  \n",
       "103126        6.0     7.0  \n",
       "35199         6.0     7.0  \n",
       "7662          4.0     5.0  \n",
       "243536        5.0     7.0  \n",
       "214004        6.0     8.0  \n",
       "\n",
       "[10 rows x 22 columns]"
      ]
     },
     "execution_count": 6,
     "metadata": {},
     "output_type": "execute_result"
    }
   ],
   "source": [
    "df.sample(10)"
   ]
  },
  {
   "cell_type": "code",
   "execution_count": 7,
   "id": "7b6dbfc1",
   "metadata": {
    "colab": {
     "base_uri": "https://localhost:8080/"
    },
    "id": "7b6dbfc1",
    "outputId": "31fbe744-9ac7-4810-fa58-53916748a230"
   },
   "outputs": [
    {
     "data": {
      "text/plain": [
       "Index(['Diabetes_012', 'HighBP', 'HighChol', 'CholCheck', 'BMI', 'Smoker',\n",
       "       'Stroke', 'HeartDiseaseorAttack', 'PhysActivity', 'Fruits', 'Veggies',\n",
       "       'HvyAlcoholConsump', 'AnyHealthcare', 'NoDocbcCost', 'GenHlth',\n",
       "       'MentHlth', 'PhysHlth', 'DiffWalk', 'Sex', 'Age', 'Education',\n",
       "       'Income'],\n",
       "      dtype='object')"
      ]
     },
     "execution_count": 7,
     "metadata": {},
     "output_type": "execute_result"
    }
   ],
   "source": [
    "df.columns"
   ]
  },
  {
   "cell_type": "code",
   "execution_count": 8,
   "id": "d41af7c6",
   "metadata": {
    "colab": {
     "base_uri": "https://localhost:8080/",
     "height": 226
    },
    "id": "d41af7c6",
    "outputId": "27e04251-278e-4376-f9c6-39caa8c5cafe",
    "scrolled": false
   },
   "outputs": [
    {
     "data": {
      "text/html": [
       "<div>\n",
       "<style scoped>\n",
       "    .dataframe tbody tr th:only-of-type {\n",
       "        vertical-align: middle;\n",
       "    }\n",
       "\n",
       "    .dataframe tbody tr th {\n",
       "        vertical-align: top;\n",
       "    }\n",
       "\n",
       "    .dataframe thead th {\n",
       "        text-align: right;\n",
       "    }\n",
       "</style>\n",
       "<table border=\"1\" class=\"dataframe\">\n",
       "  <thead>\n",
       "    <tr style=\"text-align: right;\">\n",
       "      <th></th>\n",
       "      <th>Diabetes_Type</th>\n",
       "      <th>HighBP</th>\n",
       "      <th>HighChol</th>\n",
       "      <th>CholCheck</th>\n",
       "      <th>BMI</th>\n",
       "      <th>Smoker</th>\n",
       "      <th>Stroke</th>\n",
       "      <th>HeartDiseaseorAttack</th>\n",
       "      <th>PhysActivity</th>\n",
       "      <th>Fruits</th>\n",
       "      <th>...</th>\n",
       "      <th>AnyHealthcare</th>\n",
       "      <th>NoDocbcCost</th>\n",
       "      <th>GenHlth</th>\n",
       "      <th>MentHlth</th>\n",
       "      <th>PhysHlth</th>\n",
       "      <th>DiffWalk</th>\n",
       "      <th>Sex</th>\n",
       "      <th>Age</th>\n",
       "      <th>Education</th>\n",
       "      <th>Income</th>\n",
       "    </tr>\n",
       "  </thead>\n",
       "  <tbody>\n",
       "    <tr>\n",
       "      <th>0</th>\n",
       "      <td>0.0</td>\n",
       "      <td>1.0</td>\n",
       "      <td>1.0</td>\n",
       "      <td>1.0</td>\n",
       "      <td>40.0</td>\n",
       "      <td>1.0</td>\n",
       "      <td>0.0</td>\n",
       "      <td>0.0</td>\n",
       "      <td>0.0</td>\n",
       "      <td>0.0</td>\n",
       "      <td>...</td>\n",
       "      <td>1.0</td>\n",
       "      <td>0.0</td>\n",
       "      <td>5.0</td>\n",
       "      <td>18.0</td>\n",
       "      <td>15.0</td>\n",
       "      <td>1.0</td>\n",
       "      <td>0.0</td>\n",
       "      <td>9.0</td>\n",
       "      <td>4.0</td>\n",
       "      <td>3.0</td>\n",
       "    </tr>\n",
       "    <tr>\n",
       "      <th>1</th>\n",
       "      <td>0.0</td>\n",
       "      <td>0.0</td>\n",
       "      <td>0.0</td>\n",
       "      <td>0.0</td>\n",
       "      <td>25.0</td>\n",
       "      <td>1.0</td>\n",
       "      <td>0.0</td>\n",
       "      <td>0.0</td>\n",
       "      <td>1.0</td>\n",
       "      <td>0.0</td>\n",
       "      <td>...</td>\n",
       "      <td>0.0</td>\n",
       "      <td>1.0</td>\n",
       "      <td>3.0</td>\n",
       "      <td>0.0</td>\n",
       "      <td>0.0</td>\n",
       "      <td>0.0</td>\n",
       "      <td>0.0</td>\n",
       "      <td>7.0</td>\n",
       "      <td>6.0</td>\n",
       "      <td>1.0</td>\n",
       "    </tr>\n",
       "    <tr>\n",
       "      <th>2</th>\n",
       "      <td>0.0</td>\n",
       "      <td>1.0</td>\n",
       "      <td>1.0</td>\n",
       "      <td>1.0</td>\n",
       "      <td>28.0</td>\n",
       "      <td>0.0</td>\n",
       "      <td>0.0</td>\n",
       "      <td>0.0</td>\n",
       "      <td>0.0</td>\n",
       "      <td>1.0</td>\n",
       "      <td>...</td>\n",
       "      <td>1.0</td>\n",
       "      <td>1.0</td>\n",
       "      <td>5.0</td>\n",
       "      <td>30.0</td>\n",
       "      <td>30.0</td>\n",
       "      <td>1.0</td>\n",
       "      <td>0.0</td>\n",
       "      <td>9.0</td>\n",
       "      <td>4.0</td>\n",
       "      <td>8.0</td>\n",
       "    </tr>\n",
       "    <tr>\n",
       "      <th>3</th>\n",
       "      <td>0.0</td>\n",
       "      <td>1.0</td>\n",
       "      <td>0.0</td>\n",
       "      <td>1.0</td>\n",
       "      <td>27.0</td>\n",
       "      <td>0.0</td>\n",
       "      <td>0.0</td>\n",
       "      <td>0.0</td>\n",
       "      <td>1.0</td>\n",
       "      <td>1.0</td>\n",
       "      <td>...</td>\n",
       "      <td>1.0</td>\n",
       "      <td>0.0</td>\n",
       "      <td>2.0</td>\n",
       "      <td>0.0</td>\n",
       "      <td>0.0</td>\n",
       "      <td>0.0</td>\n",
       "      <td>0.0</td>\n",
       "      <td>11.0</td>\n",
       "      <td>3.0</td>\n",
       "      <td>6.0</td>\n",
       "    </tr>\n",
       "    <tr>\n",
       "      <th>4</th>\n",
       "      <td>0.0</td>\n",
       "      <td>1.0</td>\n",
       "      <td>1.0</td>\n",
       "      <td>1.0</td>\n",
       "      <td>24.0</td>\n",
       "      <td>0.0</td>\n",
       "      <td>0.0</td>\n",
       "      <td>0.0</td>\n",
       "      <td>1.0</td>\n",
       "      <td>1.0</td>\n",
       "      <td>...</td>\n",
       "      <td>1.0</td>\n",
       "      <td>0.0</td>\n",
       "      <td>2.0</td>\n",
       "      <td>3.0</td>\n",
       "      <td>0.0</td>\n",
       "      <td>0.0</td>\n",
       "      <td>0.0</td>\n",
       "      <td>11.0</td>\n",
       "      <td>5.0</td>\n",
       "      <td>4.0</td>\n",
       "    </tr>\n",
       "  </tbody>\n",
       "</table>\n",
       "<p>5 rows × 22 columns</p>\n",
       "</div>"
      ],
      "text/plain": [
       "   Diabetes_Type  HighBP  HighChol  CholCheck   BMI  Smoker  Stroke  \\\n",
       "0            0.0     1.0       1.0        1.0  40.0     1.0     0.0   \n",
       "1            0.0     0.0       0.0        0.0  25.0     1.0     0.0   \n",
       "2            0.0     1.0       1.0        1.0  28.0     0.0     0.0   \n",
       "3            0.0     1.0       0.0        1.0  27.0     0.0     0.0   \n",
       "4            0.0     1.0       1.0        1.0  24.0     0.0     0.0   \n",
       "\n",
       "   HeartDiseaseorAttack  PhysActivity  Fruits  ...  AnyHealthcare  \\\n",
       "0                   0.0           0.0     0.0  ...            1.0   \n",
       "1                   0.0           1.0     0.0  ...            0.0   \n",
       "2                   0.0           0.0     1.0  ...            1.0   \n",
       "3                   0.0           1.0     1.0  ...            1.0   \n",
       "4                   0.0           1.0     1.0  ...            1.0   \n",
       "\n",
       "   NoDocbcCost  GenHlth  MentHlth  PhysHlth  DiffWalk  Sex   Age  Education  \\\n",
       "0          0.0      5.0      18.0      15.0       1.0  0.0   9.0        4.0   \n",
       "1          1.0      3.0       0.0       0.0       0.0  0.0   7.0        6.0   \n",
       "2          1.0      5.0      30.0      30.0       1.0  0.0   9.0        4.0   \n",
       "3          0.0      2.0       0.0       0.0       0.0  0.0  11.0        3.0   \n",
       "4          0.0      2.0       3.0       0.0       0.0  0.0  11.0        5.0   \n",
       "\n",
       "   Income  \n",
       "0     3.0  \n",
       "1     1.0  \n",
       "2     8.0  \n",
       "3     6.0  \n",
       "4     4.0  \n",
       "\n",
       "[5 rows x 22 columns]"
      ]
     },
     "execution_count": 8,
     "metadata": {},
     "output_type": "execute_result"
    }
   ],
   "source": [
    "# to rename the some columns important of dataset\n",
    "df.rename(columns={'Diabetes_012': 'Diabetes_Type'}, inplace=True)\n",
    "df.head()"
   ]
  },
  {
   "cell_type": "markdown",
   "id": "8b5dbef2",
   "metadata": {
    "id": "8b5dbef2"
   },
   "source": [
    "# Cleaning Dataset"
   ]
  },
  {
   "cell_type": "code",
   "execution_count": 9,
   "id": "e314c7da",
   "metadata": {
    "colab": {
     "base_uri": "https://localhost:8080/"
    },
    "id": "e314c7da",
    "outputId": "e6d14b2c-4fd4-4265-9bce-ecf81ff03346",
    "scrolled": true
   },
   "outputs": [
    {
     "data": {
      "text/plain": [
       "Diabetes_Type           0\n",
       "HighBP                  0\n",
       "HighChol                0\n",
       "CholCheck               0\n",
       "BMI                     0\n",
       "Smoker                  0\n",
       "Stroke                  0\n",
       "HeartDiseaseorAttack    0\n",
       "PhysActivity            0\n",
       "Fruits                  0\n",
       "Veggies                 0\n",
       "HvyAlcoholConsump       0\n",
       "AnyHealthcare           0\n",
       "NoDocbcCost             0\n",
       "GenHlth                 0\n",
       "MentHlth                0\n",
       "PhysHlth                0\n",
       "DiffWalk                0\n",
       "Sex                     0\n",
       "Age                     0\n",
       "Education               0\n",
       "Income                  0\n",
       "dtype: int64"
      ]
     },
     "execution_count": 9,
     "metadata": {},
     "output_type": "execute_result"
    }
   ],
   "source": [
    "df.isna().sum() # No missing value"
   ]
  },
  {
   "cell_type": "code",
   "execution_count": 10,
   "id": "bc9e6f2f",
   "metadata": {
    "colab": {
     "base_uri": "https://localhost:8080/"
    },
    "id": "bc9e6f2f",
    "outputId": "d7af959a-acab-4af9-9499-c528862a50bf"
   },
   "outputs": [
    {
     "data": {
      "text/plain": [
       "array([40., 25., 28., 27., 24., 30., 34., 26., 33., 21., 23., 22., 38.,\n",
       "       32., 37., 31., 29., 20., 35., 45., 39., 19., 47., 18., 36., 43.,\n",
       "       55., 49., 42., 17., 16., 41., 44., 50., 59., 48., 52., 46., 54.,\n",
       "       57., 53., 14., 15., 51., 58., 63., 61., 56., 74., 62., 64., 66.,\n",
       "       73., 85., 60., 67., 65., 70., 82., 79., 92., 68., 72., 88., 96.,\n",
       "       13., 81., 71., 75., 12., 77., 69., 76., 87., 89., 84., 95., 98.,\n",
       "       91., 86., 83., 80., 90., 78.])"
      ]
     },
     "execution_count": 10,
     "metadata": {},
     "output_type": "execute_result"
    }
   ],
   "source": [
    "df.BMI.unique()"
   ]
  },
  {
   "cell_type": "markdown",
   "id": "99017ddb",
   "metadata": {
    "id": "99017ddb"
   },
   "source": [
    "Would you say that in general your health is:scale 1-5:\n",
    "> 1 = excellent \n",
    "\n",
    "> 2 = very good \n",
    "\n",
    "> 3 = good \n",
    "\n",
    "> 4 = fair \n",
    "\n",
    "> 5 = poor\n"
   ]
  },
  {
   "cell_type": "code",
   "execution_count": 11,
   "id": "b1b8d512",
   "metadata": {
    "colab": {
     "base_uri": "https://localhost:8080/"
    },
    "id": "b1b8d512",
    "outputId": "b8f7b715-b670-426e-cb14-f5cdddd12141"
   },
   "outputs": [
    {
     "data": {
      "text/plain": [
       "array([5., 3., 2., 4., 1.])"
      ]
     },
     "execution_count": 11,
     "metadata": {},
     "output_type": "execute_result"
    }
   ],
   "source": [
    "df.GenHlth.unique()"
   ]
  },
  {
   "cell_type": "markdown",
   "id": "6fc5df4e",
   "metadata": {
    "id": "6fc5df4e"
   },
   "source": [
    "Mental health scale:\n",
    "\n",
    "> scale 1-30 days ."
   ]
  },
  {
   "cell_type": "code",
   "execution_count": 12,
   "id": "3e523bf2",
   "metadata": {
    "colab": {
     "base_uri": "https://localhost:8080/"
    },
    "id": "3e523bf2",
    "outputId": "7e9e29bf-3ebe-4279-80c6-8183cfe6dcdf"
   },
   "outputs": [
    {
     "data": {
      "text/plain": [
       "array([18.,  0., 30.,  3.,  5., 15., 10.,  6., 20.,  2., 25.,  1.,  4.,\n",
       "        7.,  8., 21., 14., 26., 29., 16., 28., 11., 12., 24., 17., 13.,\n",
       "       27., 19., 22.,  9., 23.])"
      ]
     },
     "execution_count": 12,
     "metadata": {},
     "output_type": "execute_result"
    }
   ],
   "source": [
    "df.MentHlth.unique()"
   ]
  },
  {
   "cell_type": "markdown",
   "id": "cd4dec9d",
   "metadata": {
    "id": "cd4dec9d"
   },
   "source": [
    "Now thinking about your physical health, for how many days during the past 30 days \n",
    "was your physical health not good?\n",
    "\n",
    "> scale 1-30 days "
   ]
  },
  {
   "cell_type": "code",
   "execution_count": 13,
   "id": "721bf946",
   "metadata": {
    "colab": {
     "base_uri": "https://localhost:8080/"
    },
    "id": "721bf946",
    "outputId": "889f7fd9-738f-4837-ba66-eb30d7178732"
   },
   "outputs": [
    {
     "data": {
      "text/plain": [
       "array([15.,  0., 30.,  2., 14., 28.,  7., 20.,  3., 10.,  1.,  5., 17.,\n",
       "        4., 19.,  6., 12., 25., 27., 21., 22.,  8., 29., 24.,  9., 16.,\n",
       "       18., 23., 13., 26., 11.])"
      ]
     },
     "execution_count": 13,
     "metadata": {},
     "output_type": "execute_result"
    }
   ],
   "source": [
    "df.PhysHlth.unique()"
   ]
  },
  {
   "cell_type": "markdown",
   "id": "c5b1d726",
   "metadata": {
    "id": "c5b1d726"
   },
   "source": [
    "13-level age categorys:(_AGEG5YR see codebook)\n",
    "> 1 = 18-24 \n",
    "\n",
    "> 9 = 60-64 \n",
    "\n",
    "> 13 = 80 or older \n"
   ]
  },
  {
   "cell_type": "code",
   "execution_count": 14,
   "id": "5ec8e038",
   "metadata": {
    "colab": {
     "base_uri": "https://localhost:8080/"
    },
    "id": "5ec8e038",
    "outputId": "ea088417-eaef-4dca-b599-8224147013ec"
   },
   "outputs": [
    {
     "data": {
      "text/plain": [
       "array([ 9.,  7., 11., 10.,  8., 13.,  4.,  6.,  2., 12.,  5.,  1.,  3.])"
      ]
     },
     "execution_count": 14,
     "metadata": {},
     "output_type": "execute_result"
    }
   ],
   "source": [
    "df.Age.unique()"
   ]
  },
  {
   "cell_type": "markdown",
   "id": "31459d38",
   "metadata": {
    "id": "31459d38"
   },
   "source": [
    "Education level (EDUCA see codebook) scale 1-6:\n",
    "> 1 = Never attended school or only kindergarten \n",
    "\n",
    "> 2 = Grades 1 through 8 (Elementary)\n",
    "\n",
    "> 3 = Grades 9 throug 11 (Some high school)\n",
    "\n",
    "> 4 = Grade 12 or GED (High school graduate)\n",
    "\n",
    "> 5 = College 1 year to 3 years (Some college or technical school) \n",
    "\n",
    "> 6 = College 4 years or more (College graduate)"
   ]
  },
  {
   "cell_type": "code",
   "execution_count": 15,
   "id": "523d0acd",
   "metadata": {
    "colab": {
     "base_uri": "https://localhost:8080/"
    },
    "id": "523d0acd",
    "outputId": "2f731fd1-3f67-4f0c-905a-855f92f316ed"
   },
   "outputs": [
    {
     "data": {
      "text/plain": [
       "array([4., 6., 3., 5., 2., 1.])"
      ]
     },
     "execution_count": 15,
     "metadata": {},
     "output_type": "execute_result"
    }
   ],
   "source": [
    "df.Education.unique()"
   ]
  },
  {
   "cell_type": "markdown",
   "id": "eb00c4d3",
   "metadata": {
    "id": "eb00c4d3"
   },
   "source": [
    "Income scale 1-8:\n",
    "> 1 = less than $10,000 \n",
    "\n",
    "> 5 = less than $35,000 \n",
    "\n",
    "> 8 = $75,000 or more\n",
    "\n"
   ]
  },
  {
   "cell_type": "code",
   "execution_count": 16,
   "id": "877b3fa6",
   "metadata": {
    "colab": {
     "base_uri": "https://localhost:8080/"
    },
    "id": "877b3fa6",
    "outputId": "4d191975-ffa2-4620-8040-48ca3052ced7"
   },
   "outputs": [
    {
     "data": {
      "text/plain": [
       "array([3., 1., 8., 6., 4., 7., 2., 5.])"
      ]
     },
     "execution_count": 16,
     "metadata": {},
     "output_type": "execute_result"
    }
   ],
   "source": [
    "df.Income.unique()"
   ]
  },
  {
   "cell_type": "code",
   "execution_count": 17,
   "id": "6841ee38",
   "metadata": {
    "colab": {
     "base_uri": "https://localhost:8080/"
    },
    "id": "6841ee38",
    "outputId": "2eb509c4-3aa6-449b-eaaf-0c11853209ad"
   },
   "outputs": [
    {
     "data": {
      "text/plain": [
       "array([0., 2., 1.])"
      ]
     },
     "execution_count": 17,
     "metadata": {},
     "output_type": "execute_result"
    }
   ],
   "source": [
    "df.Diabetes_Type.unique()"
   ]
  },
  {
   "cell_type": "code",
   "execution_count": 18,
   "id": "2f6a3348",
   "metadata": {
    "colab": {
     "base_uri": "https://localhost:8080/"
    },
    "id": "2f6a3348",
    "outputId": "3f7461dc-7125-4be9-aa90-24f845068d32",
    "scrolled": false
   },
   "outputs": [
    {
     "data": {
      "text/plain": [
       "0.0    213703\n",
       "2.0     35346\n",
       "1.0      4631\n",
       "Name: Diabetes_Type, dtype: int64"
      ]
     },
     "execution_count": 18,
     "metadata": {},
     "output_type": "execute_result"
    }
   ],
   "source": [
    "Diabetes=df['Diabetes_Type']\n",
    "Diabetes.value_counts()"
   ]
  },
  {
   "cell_type": "code",
   "execution_count": 19,
   "id": "10de13c7",
   "metadata": {
    "id": "10de13c7"
   },
   "outputs": [],
   "source": [
    "df['Diabetes_Type'].replace({2.0: 1.0},inplace = True)"
   ]
  },
  {
   "cell_type": "markdown",
   "id": "d3243468",
   "metadata": {
    "id": "d3243468"
   },
   "source": [
    "# preprocessing"
   ]
  },
  {
   "cell_type": "markdown",
   "id": "2fa9c209",
   "metadata": {
    "id": "2fa9c209"
   },
   "source": [
    "# Visualze the correlation "
   ]
  },
  {
   "cell_type": "code",
   "execution_count": 20,
   "id": "b5dec844",
   "metadata": {
    "colab": {
     "base_uri": "https://localhost:8080/",
     "height": 979
    },
    "id": "b5dec844",
    "outputId": "c8e369f5-4310-480d-9d2c-19f235ebcc4e"
   },
   "outputs": [
    {
     "data": {
      "image/png": "[encoded data removed]",
      "text/plain": [
       "<Figure size 1800x1080 with 2 Axes>"
      ]
     },
     "metadata": {
      "needs_background": "light"
     },
     "output_type": "display_data"
    }
   ],
   "source": [
    "corr = df.corr()\n",
    "fig, ax = plt.subplots(figsize=(25,15)) \n",
    "sns.heatmap(corr,annot=True, cmap = \"Blues\", linewidth = 0.30)\n",
    "plt.title(\"Correlation matrix of features\")\n",
    "plt.show()"
   ]
  },
  {
   "cell_type": "code",
   "execution_count": 21,
   "id": "3f7c6234",
   "metadata": {
    "id": "3f7c6234"
   },
   "outputs": [],
   "source": [
    "df['Diabetes_Type'] = df['Diabetes_Type'].astype('int')"
   ]
  },
  {
   "cell_type": "code",
   "execution_count": 22,
   "id": "abd74f02",
   "metadata": {
    "id": "abd74f02"
   },
   "outputs": [],
   "source": [
    "df['Diabetes']=df['Diabetes_Type']"
   ]
  },
  {
   "cell_type": "code",
   "execution_count": 23,
   "id": "ef359390",
   "metadata": {
    "id": "ef359390"
   },
   "outputs": [],
   "source": [
    "df['Diabetes'] = df['Diabetes_Type'].map({0:'No Diabetes', 1:'Diabetes'})"
   ]
  },
  {
   "cell_type": "code",
   "execution_count": 24,
   "id": "cde922b3",
   "metadata": {
    "colab": {
     "base_uri": "https://localhost:8080/"
    },
    "id": "cde922b3",
    "outputId": "ee509554-d87b-4e0f-e211-a6ed8a6b42d4"
   },
   "outputs": [
    {
     "data": {
      "text/plain": [
       "0    213703\n",
       "1     39977\n",
       "Name: Diabetes_Type, dtype: int64"
      ]
     },
     "execution_count": 24,
     "metadata": {},
     "output_type": "execute_result"
    }
   ],
   "source": [
    "Diabetes=df['Diabetes_Type']\n",
    "Diabetes.value_counts()"
   ]
  },
  {
   "cell_type": "code",
   "execution_count": 25,
   "id": "023608a7",
   "metadata": {
    "colab": {
     "base_uri": "https://localhost:8080/"
    },
    "id": "023608a7",
    "outputId": "cd6bb5f5-686e-4b41-ff19-dfce2913d258"
   },
   "outputs": [
    {
     "name": "stdout",
     "output_type": "stream",
     "text": [
      "   Diabetes_Type  HighBP   Count\n",
      "0              0     0.0  134391\n",
      "1              0     1.0   79312\n",
      "2              1     0.0   10460\n",
      "3              1     1.0   29517\n"
     ]
    }
   ],
   "source": [
    "diabetes_bp = df.groupby(['Diabetes_Type', 'HighBP']).size().reset_index(name = 'Count')\n",
    "print(diabetes_bp)"
   ]
  },
  {
   "cell_type": "code",
   "execution_count": 26,
   "id": "f2061603",
   "metadata": {
    "colab": {
     "base_uri": "https://localhost:8080/"
    },
    "id": "f2061603",
    "outputId": "f8f5d04c-cfa9-4beb-9c2f-645ea609fb31"
   },
   "outputs": [
    {
     "data": {
      "text/plain": [
       "Index(['Diabetes_Type', 'HighBP', 'HighChol', 'CholCheck', 'BMI', 'Smoker',\n",
       "       'Stroke', 'HeartDiseaseorAttack', 'PhysActivity', 'Fruits', 'Veggies',\n",
       "       'HvyAlcoholConsump', 'AnyHealthcare', 'NoDocbcCost', 'GenHlth',\n",
       "       'MentHlth', 'PhysHlth', 'DiffWalk', 'Sex', 'Age', 'Education', 'Income',\n",
       "       'Diabetes'],\n",
       "      dtype='object')"
      ]
     },
     "execution_count": 26,
     "metadata": {},
     "output_type": "execute_result"
    }
   ],
   "source": [
    "df.columns\n"
   ]
  },
  {
   "cell_type": "code",
   "execution_count": 27,
   "id": "efda6c84",
   "metadata": {
    "id": "efda6c84"
   },
   "outputs": [],
   "source": [
    "df['GH']=df['GenHlth']"
   ]
  },
  {
   "cell_type": "code",
   "execution_count": 28,
   "id": "84b478dc",
   "metadata": {
    "id": "84b478dc"
   },
   "outputs": [],
   "source": [
    "df['GH'] = df['GH'].map({1:5, 2:4 ,3:3 ,4:2 , 5:1})"
   ]
  },
  {
   "cell_type": "code",
   "execution_count": 29,
   "id": "dc9b45b8",
   "metadata": {
    "colab": {
     "base_uri": "https://localhost:8080/",
     "height": 313
    },
    "id": "dc9b45b8",
    "outputId": "058f35f3-459d-41bf-eca4-514bf9948be6"
   },
   "outputs": [
    {
     "data": {
      "text/html": [
       "<div>\n",
       "<style scoped>\n",
       "    .dataframe tbody tr th:only-of-type {\n",
       "        vertical-align: middle;\n",
       "    }\n",
       "\n",
       "    .dataframe tbody tr th {\n",
       "        vertical-align: top;\n",
       "    }\n",
       "\n",
       "    .dataframe thead th {\n",
       "        text-align: right;\n",
       "    }\n",
       "</style>\n",
       "<table border=\"1\" class=\"dataframe\">\n",
       "  <thead>\n",
       "    <tr style=\"text-align: right;\">\n",
       "      <th></th>\n",
       "      <th>Diabetes_Type</th>\n",
       "      <th>HighBP</th>\n",
       "      <th>HighChol</th>\n",
       "      <th>CholCheck</th>\n",
       "      <th>BMI</th>\n",
       "      <th>Smoker</th>\n",
       "      <th>Stroke</th>\n",
       "      <th>HeartDiseaseorAttack</th>\n",
       "      <th>PhysActivity</th>\n",
       "      <th>Fruits</th>\n",
       "      <th>...</th>\n",
       "      <th>GenHlth</th>\n",
       "      <th>MentHlth</th>\n",
       "      <th>PhysHlth</th>\n",
       "      <th>DiffWalk</th>\n",
       "      <th>Sex</th>\n",
       "      <th>Age</th>\n",
       "      <th>Education</th>\n",
       "      <th>Income</th>\n",
       "      <th>Diabetes</th>\n",
       "      <th>GH</th>\n",
       "    </tr>\n",
       "  </thead>\n",
       "  <tbody>\n",
       "    <tr>\n",
       "      <th>0</th>\n",
       "      <td>0</td>\n",
       "      <td>1.0</td>\n",
       "      <td>1.0</td>\n",
       "      <td>1.0</td>\n",
       "      <td>40.0</td>\n",
       "      <td>1.0</td>\n",
       "      <td>0.0</td>\n",
       "      <td>0.0</td>\n",
       "      <td>0.0</td>\n",
       "      <td>0.0</td>\n",
       "      <td>...</td>\n",
       "      <td>5.0</td>\n",
       "      <td>18.0</td>\n",
       "      <td>15.0</td>\n",
       "      <td>1.0</td>\n",
       "      <td>0.0</td>\n",
       "      <td>9.0</td>\n",
       "      <td>4.0</td>\n",
       "      <td>3.0</td>\n",
       "      <td>No Diabetes</td>\n",
       "      <td>1</td>\n",
       "    </tr>\n",
       "    <tr>\n",
       "      <th>1</th>\n",
       "      <td>0</td>\n",
       "      <td>0.0</td>\n",
       "      <td>0.0</td>\n",
       "      <td>0.0</td>\n",
       "      <td>25.0</td>\n",
       "      <td>1.0</td>\n",
       "      <td>0.0</td>\n",
       "      <td>0.0</td>\n",
       "      <td>1.0</td>\n",
       "      <td>0.0</td>\n",
       "      <td>...</td>\n",
       "      <td>3.0</td>\n",
       "      <td>0.0</td>\n",
       "      <td>0.0</td>\n",
       "      <td>0.0</td>\n",
       "      <td>0.0</td>\n",
       "      <td>7.0</td>\n",
       "      <td>6.0</td>\n",
       "      <td>1.0</td>\n",
       "      <td>No Diabetes</td>\n",
       "      <td>3</td>\n",
       "    </tr>\n",
       "    <tr>\n",
       "      <th>2</th>\n",
       "      <td>0</td>\n",
       "      <td>1.0</td>\n",
       "      <td>1.0</td>\n",
       "      <td>1.0</td>\n",
       "      <td>28.0</td>\n",
       "      <td>0.0</td>\n",
       "      <td>0.0</td>\n",
       "      <td>0.0</td>\n",
       "      <td>0.0</td>\n",
       "      <td>1.0</td>\n",
       "      <td>...</td>\n",
       "      <td>5.0</td>\n",
       "      <td>30.0</td>\n",
       "      <td>30.0</td>\n",
       "      <td>1.0</td>\n",
       "      <td>0.0</td>\n",
       "      <td>9.0</td>\n",
       "      <td>4.0</td>\n",
       "      <td>8.0</td>\n",
       "      <td>No Diabetes</td>\n",
       "      <td>1</td>\n",
       "    </tr>\n",
       "    <tr>\n",
       "      <th>3</th>\n",
       "      <td>0</td>\n",
       "      <td>1.0</td>\n",
       "      <td>0.0</td>\n",
       "      <td>1.0</td>\n",
       "      <td>27.0</td>\n",
       "      <td>0.0</td>\n",
       "      <td>0.0</td>\n",
       "      <td>0.0</td>\n",
       "      <td>1.0</td>\n",
       "      <td>1.0</td>\n",
       "      <td>...</td>\n",
       "      <td>2.0</td>\n",
       "      <td>0.0</td>\n",
       "      <td>0.0</td>\n",
       "      <td>0.0</td>\n",
       "      <td>0.0</td>\n",
       "      <td>11.0</td>\n",
       "      <td>3.0</td>\n",
       "      <td>6.0</td>\n",
       "      <td>No Diabetes</td>\n",
       "      <td>4</td>\n",
       "    </tr>\n",
       "    <tr>\n",
       "      <th>4</th>\n",
       "      <td>0</td>\n",
       "      <td>1.0</td>\n",
       "      <td>1.0</td>\n",
       "      <td>1.0</td>\n",
       "      <td>24.0</td>\n",
       "      <td>0.0</td>\n",
       "      <td>0.0</td>\n",
       "      <td>0.0</td>\n",
       "      <td>1.0</td>\n",
       "      <td>1.0</td>\n",
       "      <td>...</td>\n",
       "      <td>2.0</td>\n",
       "      <td>3.0</td>\n",
       "      <td>0.0</td>\n",
       "      <td>0.0</td>\n",
       "      <td>0.0</td>\n",
       "      <td>11.0</td>\n",
       "      <td>5.0</td>\n",
       "      <td>4.0</td>\n",
       "      <td>No Diabetes</td>\n",
       "      <td>4</td>\n",
       "    </tr>\n",
       "  </tbody>\n",
       "</table>\n",
       "<p>5 rows × 24 columns</p>\n",
       "</div>"
      ],
      "text/plain": [
       "   Diabetes_Type  HighBP  HighChol  CholCheck   BMI  Smoker  Stroke  \\\n",
       "0              0     1.0       1.0        1.0  40.0     1.0     0.0   \n",
       "1              0     0.0       0.0        0.0  25.0     1.0     0.0   \n",
       "2              0     1.0       1.0        1.0  28.0     0.0     0.0   \n",
       "3              0     1.0       0.0        1.0  27.0     0.0     0.0   \n",
       "4              0     1.0       1.0        1.0  24.0     0.0     0.0   \n",
       "\n",
       "   HeartDiseaseorAttack  PhysActivity  Fruits  ...  GenHlth  MentHlth  \\\n",
       "0                   0.0           0.0     0.0  ...      5.0      18.0   \n",
       "1                   0.0           1.0     0.0  ...      3.0       0.0   \n",
       "2                   0.0           0.0     1.0  ...      5.0      30.0   \n",
       "3                   0.0           1.0     1.0  ...      2.0       0.0   \n",
       "4                   0.0           1.0     1.0  ...      2.0       3.0   \n",
       "\n",
       "   PhysHlth  DiffWalk  Sex   Age  Education  Income     Diabetes  GH  \n",
       "0      15.0       1.0  0.0   9.0        4.0     3.0  No Diabetes   1  \n",
       "1       0.0       0.0  0.0   7.0        6.0     1.0  No Diabetes   3  \n",
       "2      30.0       1.0  0.0   9.0        4.0     8.0  No Diabetes   1  \n",
       "3       0.0       0.0  0.0  11.0        3.0     6.0  No Diabetes   4  \n",
       "4       0.0       0.0  0.0  11.0        5.0     4.0  No Diabetes   4  \n",
       "\n",
       "[5 rows x 24 columns]"
      ]
     },
     "execution_count": 29,
     "metadata": {},
     "output_type": "execute_result"
    }
   ],
   "source": [
    "df.head()"
   ]
  },
  {
   "cell_type": "code",
   "execution_count": 30,
   "id": "n4BPRdXgTYDV",
   "metadata": {
    "colab": {
     "base_uri": "https://localhost:8080/"
    },
    "id": "n4BPRdXgTYDV",
    "outputId": "1157e1f8-462b-4dfb-a2e9-27ad480c4751"
   },
   "outputs": [
    {
     "data": {
      "text/plain": [
       "Diabetes_Type           0\n",
       "HighBP                  0\n",
       "HighChol                0\n",
       "CholCheck               0\n",
       "BMI                     0\n",
       "Smoker                  0\n",
       "Stroke                  0\n",
       "HeartDiseaseorAttack    0\n",
       "PhysActivity            0\n",
       "Fruits                  0\n",
       "Veggies                 0\n",
       "HvyAlcoholConsump       0\n",
       "AnyHealthcare           0\n",
       "NoDocbcCost             0\n",
       "GenHlth                 0\n",
       "MentHlth                0\n",
       "PhysHlth                0\n",
       "DiffWalk                0\n",
       "Sex                     0\n",
       "Age                     0\n",
       "Education               0\n",
       "Income                  0\n",
       "Diabetes                0\n",
       "GH                      0\n",
       "dtype: int64"
      ]
     },
     "execution_count": 30,
     "metadata": {},
     "output_type": "execute_result"
    }
   ],
   "source": [
    "df.isna().sum()"
   ]
  },
  {
   "cell_type": "markdown",
   "id": "46d1f1ea",
   "metadata": {
    "id": "46d1f1ea"
   },
   "source": [
    "# Build models"
   ]
  },
  {
   "cell_type": "markdown",
   "id": "1bbf0aa7",
   "metadata": {
    "id": "1bbf0aa7"
   },
   "source": [
    "## Experiment 1: Split data to training,validation and test set"
   ]
  },
  {
   "cell_type": "code",
   "execution_count": 31,
   "id": "af9fe737",
   "metadata": {
    "id": "af9fe737"
   },
   "outputs": [],
   "source": [
    "smaller_df=df.loc[:,['Diabetes_Type', 'HighBP', 'HighChol', 'BMI', 'HeartDiseaseorAttack','PhysActivity', 'GenHlth','MentHlth','DiffWalk', 'Age']]\n",
    "smaller_df1=df.loc[:,['Diabetes_Type', 'HighBP', 'HighChol', 'BMI', 'HeartDiseaseorAttack','PhysActivity', 'GH','MentHlth','DiffWalk', 'Age']]                  \n",
    "                \n"
   ]
  },
  {
   "cell_type": "code",
   "execution_count": 32,
   "id": "fac7a5e3",
   "metadata": {
    "id": "fac7a5e3"
   },
   "outputs": [],
   "source": [
    "df_train, df_test = train_test_split(smaller_df, test_size=0.20, random_state=0)\n",
    "df_train, df_val = train_test_split(df_train, test_size=0.20, random_state=0)\n",
    "\n",
    "x,y = df_train.drop(['Diabetes_Type'],axis=1),df_train['Diabetes_Type']\n"
   ]
  },
  {
   "cell_type": "markdown",
   "id": "83c11e5b",
   "metadata": {},
   "source": [
    "## Baseline Model"
   ]
  },
  {
   "cell_type": "code",
   "execution_count": 33,
   "id": "98f193dc",
   "metadata": {
    "id": "98f193dc"
   },
   "outputs": [],
   "source": [
    "# The figure above display the correlation between the features and the target, for this i choose only these features\n",
    "x_train1,y_train = df_train.drop(['Diabetes_Type'],axis=1),df_train['Diabetes_Type']\n",
    "x_val1,y_val = df_val.drop(['Diabetes_Type'],axis=1),df_val['Diabetes_Type']\n",
    "x_test1,y_test= df_test.drop(['Diabetes_Type'],axis=1),df_test['Diabetes_Type']"
   ]
  },
  {
   "cell_type": "code",
   "execution_count": 34,
   "id": "c485cc45",
   "metadata": {
    "colab": {
     "base_uri": "https://localhost:8080/"
    },
    "id": "c485cc45",
    "outputId": "a92f463c-e12c-46d9-8b7d-d3648f3d58d0"
   },
   "outputs": [
    {
     "name": "stdout",
     "output_type": "stream",
     "text": [
      "(162355, 9)\n",
      "(40589, 9)\n",
      "(50736, 9)\n"
     ]
    }
   ],
   "source": [
    "print(x_train1.shape)\n",
    "print(x_val1.shape)\n",
    "print(x_test1.shape)"
   ]
  },
  {
   "cell_type": "markdown",
   "id": "4a2c6cb1",
   "metadata": {
    "id": "4a2c6cb1"
   },
   "source": [
    "## Scalling to give us fair distrubtion btw features"
   ]
  },
  {
   "cell_type": "code",
   "execution_count": 35,
   "id": "6b47a68b",
   "metadata": {
    "id": "6b47a68b"
   },
   "outputs": [],
   "source": [
    "#For smaller df1\n",
    "scaler = MinMaxScaler()\n",
    "scaler.fit(x_train1)\n",
    "\n",
    "x_train = scaler.transform(x_train1)\n",
    "x_test= scaler.transform(x_test1)\n",
    "x_val=scaler.transform(x_val1)"
   ]
  },
  {
   "cell_type": "markdown",
   "id": "e72bb993",
   "metadata": {},
   "source": [
    "## Experiment 1-1: K-nearest Neighbors Classification without using cross vaidation"
   ]
  },
  {
   "cell_type": "code",
   "execution_count": 36,
   "id": "e4f3b2b8",
   "metadata": {},
   "outputs": [],
   "source": [
    "# create a dict to store the scores of each model\n",
    "models_evalutions = {'Model':[],\n",
    "                     'Accuracy':[],\n",
    "                     'Precision':[],\n",
    "                     'Recall':[], \n",
    "                     'F1 score':[]}"
   ]
  },
  {
   "cell_type": "code",
   "execution_count": 37,
   "id": "65c0a213",
   "metadata": {},
   "outputs": [],
   "source": [
    "#model_names = [\"knn_final\", \"lr_final\",\"Dt_final\",\"rf_final\"]\n",
    "#model_vars = [eval(n) for n in model_names]\n",
    "#model_list = list(zip(model_names, model_vars))"
   ]
  },
  {
   "cell_type": "code",
   "execution_count": 38,
   "id": "fa55ce95",
   "metadata": {},
   "outputs": [],
   "source": [
    "x0_train=x_train.copy()\n",
    "x0_val=x_val.copy()"
   ]
  },
  {
   "cell_type": "code",
   "execution_count": 39,
   "id": "9077a404",
   "metadata": {
    "colab": {
     "base_uri": "https://localhost:8080/"
    },
    "id": "9077a404",
    "outputId": "1f3e7da0-c187-4981-fde0-84759f25f269"
   },
   "outputs": [
    {
     "name": "stdout",
     "output_type": "stream",
     "text": [
      "The score for kNN without cross val and without using smote is\n",
      "Training set:  86.50%\n",
      "Validation set:  82.73%\n",
      "Test set:  82.87%\n"
     ]
    }
   ],
   "source": [
    "# Using KNN (smaller df1) train on training set, and Test on testing set \n",
    "knn = KNeighborsClassifier(n_neighbors=5)\n",
    "knn.fit(x0_train, y_train)\n",
    "print(\"The score for kNN without cross val and without using smote is\")\n",
    "print(\"Training set: {:6.2f}%\".format(100*knn.score(x0_train, y_train)))\n",
    "print(\"Validation set: {:6.2f}%\".format(100*knn.score(x0_val, y_val)))\n",
    "print(\"Test set: {:6.2f}%\".format(100*knn.score(x_test, y_test)))"
   ]
  },
  {
   "cell_type": "code",
   "execution_count": 40,
   "id": "hZy51p_ZgnPp",
   "metadata": {
    "colab": {
     "base_uri": "https://localhost:8080/"
    },
    "id": "hZy51p_ZgnPp",
    "outputId": "83e1fca4-63cf-4bec-e6a9-193832677cce"
   },
   "outputs": [
    {
     "name": "stdout",
     "output_type": "stream",
     "text": [
      "\n",
      "KNN Accuracy for validation set=: 0.8273, \n",
      "precision: 0.4116, \n",
      "recall: 0.2381,\n",
      "F1: 0.3017\n"
     ]
    }
   ],
   "source": [
    "#test the baseline model for smaller df\n",
    "#prediction\n",
    "val_pred=knn.predict(x0_val)\n",
    "#Accuracy\n",
    "confusion_hard = confusion_matrix( y_val, val_pred)\n",
    "accuracy = accuracy_score(y_val , val_pred)\n",
    "precision = precision_score(y_val , val_pred)\n",
    "recall = recall_score(y_val , val_pred)\n",
    "f1 = f1_score(y_val,val_pred) \n",
    "print('\\nKNN Accuracy for validation set=: {0:.4f}, \\nprecision: {1:.4f}, \\nrecall: {2:.4f},\\\n",
    "\\nF1: {3:.4f}'.format(accuracy, precision, recall, f1))"
   ]
  },
  {
   "cell_type": "code",
   "execution_count": 41,
   "id": "lZymTddL3EBm",
   "metadata": {
    "colab": {
     "base_uri": "https://localhost:8080/",
     "height": 283
    },
    "id": "lZymTddL3EBm",
    "outputId": "8944b163-2fa3-45e3-b5f7-710c692b0725"
   },
   "outputs": [
    {
     "data": {
      "image/png": "[encoded data removed]",
      "text/plain": [
       "<Figure size 432x288 with 2 Axes>"
      ]
     },
     "metadata": {
      "needs_background": "light"
     },
     "output_type": "display_data"
    }
   ],
   "source": [
    "cm = confusion_matrix(y_val, val_pred)\n",
    "class_label = [\"No_Diabetes\", \"Diabetes\"]\n",
    "df_cm = pd.DataFrame(cm, index = class_label, columns = class_label)\n",
    "sns.heatmap(df_cm, annot = True, fmt = \"d\",  cmap = \"Blues\" )\n",
    "plt.title('Confusion matrix for knn befoes balancing two classes and using cross validation', fontsize = 20); # title with fontsize 20"
   ]
  },
  {
   "cell_type": "markdown",
   "id": "3425b8e6",
   "metadata": {
    "id": "3425b8e6"
   },
   "source": [
    "## Experiment 1-2: K-nearest Neighbors Classification with cross validation & Smote"
   ]
  },
  {
   "cell_type": "markdown",
   "id": "3ACtsad9GcwK",
   "metadata": {
    "id": "3ACtsad9GcwK"
   },
   "source": [
    "Becouse of our target's labels imbalance we will use Smote to balance them with cross validation."
   ]
  },
  {
   "cell_type": "code",
   "execution_count": 42,
   "id": "248f64e3",
   "metadata": {},
   "outputs": [],
   "source": [
    "kf = KFold(n_splits=5, random_state=42, shuffle=True)"
   ]
  },
  {
   "cell_type": "code",
   "execution_count": 43,
   "id": "e888d7ef",
   "metadata": {
    "scrolled": false
   },
   "outputs": [
    {
     "name": "stdout",
     "output_type": "stream",
     "text": [
      "kNN accuracy score: \t\n",
      "0.7458778602445258\n",
      "----------------\n",
      "kNN score: \t\n",
      "0.4004600764791174\n",
      "----------------\n",
      "kNN confusion matrix: \n",
      " [[21330  6087]\n",
      " [ 2269  2785]]\n",
      "----------------\n",
      "KNN precision score\n",
      "0.3181433579825833\n",
      "----------------\n",
      "KNN recall_score\n",
      "0.5404380412656264\n",
      "----------------\n"
     ]
    }
   ],
   "source": [
    "knn = KNeighborsClassifier(n_neighbors=5)\n",
    "accuracy_score1=[]\n",
    "f1_score1 = []\n",
    "percision_score1 = []\n",
    "recall_score1 = []\n",
    "\n",
    "# enumerate the splits and summarize the distributions\n",
    "for train_ix, test_ix in kf.split(x, y):\n",
    "    # select rows\n",
    "    train_x, test_X = x.iloc[train_ix], x.iloc[test_ix]\n",
    "    train_y, test_y = y.iloc[train_ix], y.iloc[test_ix]\n",
    "    #print(train_X.shape, train_y.shape)\n",
    "    #print(test_X.shape, test_y.shape)\n",
    "    oversample = SMOTE(random_state = 0)\n",
    "    train_x, train_y = oversample.fit_resample(train_x, train_y)\n",
    "    #scores= cross_val_score(knn, test_X, test_y, cv=5, scoring='accuracy') \n",
    "    knn.fit(train_x, train_y)\n",
    "    y_pred =knn.predict(test_X)\n",
    "    #score = f1_score(test_y,y_pred)\n",
    "    accuracy_score1.append(metrics.accuracy_score(test_y, y_pred))\n",
    "    percision_score1.append(metrics.precision_score(test_y, y_pred))\n",
    "    recall_score1.append(metrics.recall_score(test_y, y_pred))\n",
    "    f1_score1.append(metrics.f1_score(test_y, y_pred))\n",
    "\n",
    "\n",
    "    \n",
    "print(\"kNN accuracy score: \\t\")\n",
    "print(sum(accuracy_score1) / len(accuracy_score1))\n",
    "print(\"----------------\")    \n",
    "print(\"kNN score: \\t\")\n",
    "print(sum(f1_score1) / len(f1_score1))\n",
    "print(\"----------------\")\n",
    "conf_mat3 = confusion_matrix(test_y, y_pred)\n",
    "print(\"kNN confusion matrix: \\n\",conf_mat3)\n",
    "print(\"----------------\")\n",
    "print(\"KNN precision score\")\n",
    "print(sum(percision_score1) / len(percision_score1))\n",
    "print(\"----------------\")\n",
    "print(\"KNN recall_score\")\n",
    "print(sum(recall_score1) / len(recall_score1))\n",
    "print(\"----------------\")\n",
    "#print score for all evaluations\n"
   ]
  },
  {
   "cell_type": "code",
   "execution_count": 47,
   "id": "f4a42ffe",
   "metadata": {},
   "outputs": [],
   "source": [
    "models_evalutions['Model'].append(\"KNN after balance our target's labels\")\n",
    "models_evalutions['Accuracy'].append(accuracy_score(test_y, y_pred))\n",
    "models_evalutions['Precision'].append(precision_score(test_y, y_pred))\n",
    "models_evalutions['Recall'].append(recall_score(test_y, y_pred))\n",
    "models_evalutions['F1 score'].append(f1_score(test_y, y_pred))"
   ]
  },
  {
   "cell_type": "code",
   "execution_count": 48,
   "id": "f0aa01ee",
   "metadata": {},
   "outputs": [],
   "source": [
    "knn_final = knn.n_neighbors"
   ]
  },
  {
   "cell_type": "code",
   "execution_count": 49,
   "id": "31f88fe4",
   "metadata": {
    "scrolled": false
   },
   "outputs": [
    {
     "data": {
      "image/png": "[encoded data removed]",
      "text/plain": [
       "<Figure size 432x288 with 2 Axes>"
      ]
     },
     "metadata": {
      "needs_background": "light"
     },
     "output_type": "display_data"
    }
   ],
   "source": [
    "cm =confusion_matrix(test_y, y_pred)\n",
    "class_label = [\"No-Diabetes\", \"Diabetes\"]\n",
    "df_cm = pd.DataFrame(cm, index = class_label, columns = class_label)\n",
    "sns.heatmap(df_cm, annot = True, fmt = \"d\", cmap='Blues')\n",
    "plt.title('Confusion matrix for knn with cross validation and Smote', fontsize = 20); # title with fontsize 20"
   ]
  },
  {
   "cell_type": "markdown",
   "id": "CoiLaigsBK6R",
   "metadata": {
    "id": "CoiLaigsBK6R"
   },
   "source": [
    "## Expreiment 2: Logistic Regression Model with smote"
   ]
  },
  {
   "cell_type": "code",
   "execution_count": 50,
   "id": "1371bc99",
   "metadata": {},
   "outputs": [],
   "source": [
    "x2_train=x_train.copy()\n",
    "x2_val=x_val.copy()"
   ]
  },
  {
   "cell_type": "code",
   "execution_count": 51,
   "id": "Wgx127ikz9fa",
   "metadata": {
    "colab": {
     "base_uri": "https://localhost:8080/",
     "height": 234
    },
    "id": "Wgx127ikz9fa",
    "outputId": "7086118b-0d16-4e82-ca88-5aa649dcfa89",
    "scrolled": true
   },
   "outputs": [
    {
     "name": "stdout",
     "output_type": "stream",
     "text": [
      "Best params:  {'C': 1, 'penalty': 'l2'}\n",
      "Best estimator:  LogisticRegression(C=1)\n",
      "Best score:  0.8473838154695909\n",
      "Training Score before balance the labels: 0.8473961380924517\n",
      "Validation Score before balance the labels: 0.846781147601567\n",
      "\n",
      "Logistic Regression Accuracy= 0.846781147601567\n",
      "Logistic Regression F1 score= 0.2524341868012982\n"
     ]
    }
   ],
   "source": [
    "#Before balance classes\n",
    "lr=LogisticRegression()\n",
    "prams ={\"penalty\": [ 'l1', 'l2'],\n",
    "       \"C\": [0.5 , 0.7,0.8 , 1 , 2.0 , 3.0]}\n",
    "\n",
    "lr_cv= GridSearchCV(lr , param_grid=prams, n_jobs=-1 ,cv=10)\n",
    "lr_cv.fit(x2_train , y_train )\n",
    "\n",
    "print(\"Best params: \", lr_cv.best_params_)\n",
    "print(\"Best estimator: \" ,lr_cv.best_estimator_)\n",
    "print(\"Best score: \", lr_cv.best_score_)\n",
    "\n",
    "print(\"Training Score before balance the labels:\",lr_cv.score(x2_train, y_train))\n",
    "print(\"Validation Score before balance the labels:\",lr_cv.score(x2_val, y_val))\n",
    "\n",
    "y_pred = lr_cv.predict(x2_val)\n",
    "print(\"\\nLogistic Regression Accuracy=\",accuracy_score(y_val, y_pred))\n",
    "print(\"Logistic Regression F1 score=\",f1_score(y_val, y_pred))"
   ]
  },
  {
   "cell_type": "code",
   "execution_count": 52,
   "id": "zWAGIzgCctxo",
   "metadata": {
    "id": "zWAGIzgCctxo"
   },
   "outputs": [
    {
     "data": {
      "text/plain": [
       "0.8473838154695909"
      ]
     },
     "execution_count": 52,
     "metadata": {},
     "output_type": "execute_result"
    }
   ],
   "source": [
    "lr_cv.best_score_"
   ]
  },
  {
   "cell_type": "code",
   "execution_count": 53,
   "id": "dbdc1ba0",
   "metadata": {},
   "outputs": [
    {
     "data": {
      "text/plain": [
       "LogisticRegression(C=1)"
      ]
     },
     "execution_count": 53,
     "metadata": {},
     "output_type": "execute_result"
    }
   ],
   "source": [
    "lr_final = lr_cv.best_estimator_\n",
    "lr_final"
   ]
  },
  {
   "cell_type": "code",
   "execution_count": 54,
   "id": "5JJsE7xFO84R",
   "metadata": {
    "colab": {
     "base_uri": "https://localhost:8080/",
     "height": 165
    },
    "id": "5JJsE7xFO84R",
    "outputId": "3cf4cf99-724c-41eb-b9bc-ca2579214e2a"
   },
   "outputs": [
    {
     "data": {
      "text/plain": [
       "0.8473961380924517"
      ]
     },
     "execution_count": 54,
     "metadata": {},
     "output_type": "execute_result"
    }
   ],
   "source": [
    "lr_final.score(x2_train , y_train)"
   ]
  },
  {
   "cell_type": "code",
   "execution_count": 55,
   "id": "2uQ2bXniO88j",
   "metadata": {
    "id": "2uQ2bXniO88j"
   },
   "outputs": [
    {
     "data": {
      "text/plain": [
       "0.846781147601567"
      ]
     },
     "execution_count": 55,
     "metadata": {},
     "output_type": "execute_result"
    }
   ],
   "source": [
    "lr_final.score(x_val , y_val)"
   ]
  },
  {
   "cell_type": "markdown",
   "id": "4056a988",
   "metadata": {},
   "source": [
    "The Class Imbalance classification divided into three:\n",
    "\n",
    "> 1. Before model training: Resampling strategies (oversampling, undersampling)\n",
    "\n",
    "> 2. During model training: Training with adjusted class weights\n",
    "\n",
    "> 3. After model training: Adjusting the decision threshold (F1 optimization strategy)"
   ]
  },
  {
   "cell_type": "code",
   "execution_count": 56,
   "id": "6c87cab8",
   "metadata": {
    "scrolled": true
   },
   "outputs": [
    {
     "name": "stdout",
     "output_type": "stream",
     "text": [
      "Training Score after balance the labels (RandomOverSampler): 0.7392441690536038\n",
      "Validation Score after balance the labels (RandomOverSampler) 0.7257138633619946\n"
     ]
    }
   ],
   "source": [
    "#experiment2-1 with random over sampling\n",
    "lg1 = LogisticRegression(C=1,penalty=\"l2\")\n",
    "\n",
    "# randomly oversample positive samples\n",
    "ROS = RandomOverSampler(random_state=42)\n",
    "\n",
    "X_tr_rs, y_tr_rs = ROS.fit_resample(x2_train, y_train)\n",
    "\n",
    "lg1.fit(X_tr_rs, y_tr_rs)\n",
    "print(\"Training Score after balance the labels (RandomOverSampler):\",lg1.score(X_tr_rs, y_tr_rs))\n",
    "print(\"Validation Score after balance the labels (RandomOverSampler)\",lg1.score(x_val, y_val))\n",
    "#model_eval(model3,X_test_std,y_test)"
   ]
  },
  {
   "cell_type": "code",
   "execution_count": 57,
   "id": "ef89f303",
   "metadata": {},
   "outputs": [
    {
     "name": "stdout",
     "output_type": "stream",
     "text": [
      "Training Score after balance the labels (RandomUnderSampler) 0.7389505470802776\n",
      "Validation Score after balance the labels (RandomUnderSampler): 0.7259848727487743\n"
     ]
    }
   ],
   "source": [
    "#experiment2-2 whith random under sampling\n",
    "lg2 = LogisticRegression(C=1,penalty=\"l2\")\n",
    "\n",
    "RUS = RandomUnderSampler(random_state=42)\n",
    "\n",
    "X_tr_us, y_tr_us = RUS.fit_resample(x2_train, y_train)\n",
    "\n",
    "lg2.fit(X_tr_us, y_tr_us)\n",
    "print(\"Training Score after balance the labels (RandomUnderSampler)\",lg2.score(X_tr_us, y_tr_us))\n",
    "print(\"Validation Score after balance the labels (RandomUnderSampler):\",lg2.score(x2_val, y_val))\n",
    "#model_eval(lg2,X_test_std,y_test)"
   ]
  },
  {
   "cell_type": "code",
   "execution_count": 58,
   "id": "a3e72dc0",
   "metadata": {},
   "outputs": [
    {
     "name": "stdout",
     "output_type": "stream",
     "text": [
      "Training Score after Balanced class weights Logistic Regression 0.7280712019956269\n",
      "Validation Score after Balanced class weights Logistic Regression: 0.7256399517110547\n"
     ]
    }
   ],
   "source": [
    "#experiment2-3 whith balanced weighted classes sampling\n",
    "lg3 = LogisticRegression(C=1,penalty=\"l2\",class_weight='balanced')\n",
    "\n",
    "lg3.fit(x2_train, y_train)\n",
    "#y_pred=lg3.predict(x2_val)\n",
    "print(\"Training Score after Balanced class weights Logistic Regression\",lg3.score(x2_train, y_train))\n",
    "print(\"Validation Score after Balanced class weights Logistic Regression:\",lg3.score(x2_val, y_val))\n"
   ]
  },
  {
   "cell_type": "code",
   "execution_count": 59,
   "id": "fa5bbcf4",
   "metadata": {},
   "outputs": [
    {
     "name": "stdout",
     "output_type": "stream",
     "text": [
      "Training Score after balance the labels (Smote): 0.7411220552990004\n",
      "Validation Score after balance the labels (Smote): 0.7249254724186356\n"
     ]
    }
   ],
   "source": [
    "#experiment2-4 whith Smote\n",
    "lg = LogisticRegression(C=1,penalty=\"l2\")\n",
    "\n",
    "SMT = SMOTE(random_state=42)\n",
    "\n",
    "X_tr_smt, y_tr_smt = SMT.fit_resample(x2_train, y_train)\n",
    "\n",
    "lg.fit(X_tr_smt, y_tr_smt)\n",
    "y_pred=lg.predict(x2_val)\n",
    "\n",
    "print(\"Training Score after balance the labels (Smote):\",lg.score(X_tr_smt, y_tr_smt))\n",
    "print(\"Validation Score after balance the labels (Smote):\",lg.score(x2_val, y_val))\n",
    "#model_eval(model3,X_test_std,y_test)"
   ]
  },
  {
   "cell_type": "markdown",
   "id": "669be2e5",
   "metadata": {},
   "source": [
    "the best result was for Smote "
   ]
  },
  {
   "cell_type": "code",
   "execution_count": 60,
   "id": "9c979480",
   "metadata": {},
   "outputs": [
    {
     "name": "stdout",
     "output_type": "stream",
     "text": [
      "              precision    recall  f1-score   support\n",
      "\n",
      "           0      0.939     0.720     0.815     34230\n",
      "           1      0.332     0.749     0.460      6359\n",
      "\n",
      "    accuracy                          0.725     40589\n",
      "   macro avg      0.636     0.735     0.638     40589\n",
      "weighted avg      0.844     0.725     0.760     40589\n",
      "\n",
      "ACCURACY: 0.7249254724186356\n",
      "RECALL: 0.7493316559207422\n"
     ]
    }
   ],
   "source": [
    "# classification report for logisitic\n",
    "print(classification_report(y_val, y_pred, digits=3, zero_division = 1))\n",
    "acc_nb = accuracy_score(y_val, y_pred)\n",
    "recall_nb = recall_score(y_val, y_pred, average=\"binary\")\n",
    "print(\"ACCURACY:\",accuracy_score(y_val, y_pred))\n",
    "print(\"RECALL:\",recall_score(y_val, y_pred, average=\"binary\"))"
   ]
  },
  {
   "cell_type": "code",
   "execution_count": 61,
   "id": "b8346867",
   "metadata": {},
   "outputs": [],
   "source": [
    "models_evalutions['Model'].append(\"LogisticRegression with Smote\")\n",
    "models_evalutions['Accuracy'].append(accuracy_score(y_val, y_pred))\n",
    "models_evalutions['Precision'].append(precision_score(y_val, y_pred))\n",
    "models_evalutions['Recall'].append(recall_score(y_val, y_pred))\n",
    "models_evalutions['F1 score'].append(f1_score(y_val, y_pred))"
   ]
  },
  {
   "cell_type": "code",
   "execution_count": 62,
   "id": "c2e6d174",
   "metadata": {},
   "outputs": [
    {
     "data": {
      "image/png": "[encoded data removed]",
      "text/plain": [
       "<Figure size 432x288 with 2 Axes>"
      ]
     },
     "metadata": {
      "needs_background": "light"
     },
     "output_type": "display_data"
    }
   ],
   "source": [
    "# plotting confusion mtrix\n",
    "cm = confusion_matrix(y_val, y_pred)\n",
    "class_label = [\"No-Diabetes\", \"Diabetes\"]\n",
    "df_cm = pd.DataFrame(cm, index = class_label, columns = class_label)\n",
    "sns.heatmap(df_cm, annot = True, fmt = \"d\", cmap='Blues')\n",
    "plt.title('Confusion matrix for LogisticRegression ', fontsize = 20); # title with fontsize 20"
   ]
  },
  {
   "cell_type": "markdown",
   "id": "4b7245c9",
   "metadata": {
    "id": "4b7245c9"
   },
   "source": [
    "## Experiment 3: Decision Tree Classification"
   ]
  },
  {
   "cell_type": "code",
   "execution_count": 63,
   "id": "7fdbd1ba",
   "metadata": {},
   "outputs": [],
   "source": [
    "x3_train=x_train.copy()\n",
    "x3_val=x_val.copy()"
   ]
  },
  {
   "cell_type": "code",
   "execution_count": 64,
   "id": "37f4df76",
   "metadata": {},
   "outputs": [
    {
     "name": "stdout",
     "output_type": "stream",
     "text": [
      "Fitting 5 folds for each of 8 candidates, totalling 40 fits\n",
      "DecisionTreeClassifier(criterion='entropy', max_depth=10, random_state=42)\n"
     ]
    }
   ],
   "source": [
    "# finding the best parameters for the decision tree\n",
    "param_grid = {'criterion' :['gini', 'entropy'],'max_depth': [4, 6, 10, 12]}\n",
    "\n",
    "tree_clas = DecisionTreeClassifier(random_state=42)\n",
    "grid_search = GridSearchCV(estimator=tree_clas, param_grid=param_grid, cv=5, verbose=True, scoring = 'f1')\n",
    "grid_search.fit(x3_train, y_train)\n",
    "\n",
    "print(grid_search.best_estimator_)"
   ]
  },
  {
   "cell_type": "code",
   "execution_count": 65,
   "id": "9c892a8d",
   "metadata": {},
   "outputs": [
    {
     "data": {
      "text/plain": [
       "DecisionTreeClassifier(criterion='entropy', max_depth=10, random_state=42)"
      ]
     },
     "execution_count": 65,
     "metadata": {},
     "output_type": "execute_result"
    }
   ],
   "source": [
    "Dt_final = grid_search.best_estimator_\n",
    "Dt_final"
   ]
  },
  {
   "cell_type": "code",
   "execution_count": 66,
   "id": "28681426",
   "metadata": {},
   "outputs": [
    {
     "name": "stdout",
     "output_type": "stream",
     "text": [
      "Training Score In Decision Tree Classification: 0.8528594746081118\n",
      "Validation Score In Decision Tree: Classification 0.8477912734977457\n",
      "DT Accuracy= 0.8477912734977457\n",
      "DT F1 score= 0.24529684827754702\n"
     ]
    }
   ],
   "source": [
    "# trying with entropy, since it didn't show in the previose step\n",
    "tree = DecisionTreeClassifier(criterion='entropy',\n",
    "                                     max_depth=10,\n",
    "                                     max_features='auto',\n",
    "                                     random_state=42)\n",
    "\n",
    "tree.fit(x3_train,y_train)\n",
    "\n",
    "print(\"Training Score In Decision Tree Classification:\",tree.score(x3_train, y_train))\n",
    "print(\"Validation Score In Decision Tree: Classification\",tree.score(x2_val, y_val))\n",
    "y_pred = tree.predict(x3_val)\n",
    "\n",
    "print(\"DT Accuracy=\",accuracy_score(y_val, y_pred))\n",
    "print(\"DT F1 score=\",f1_score(y_val, y_pred))"
   ]
  },
  {
   "cell_type": "code",
   "execution_count": 67,
   "id": "b73595b9",
   "metadata": {},
   "outputs": [
    {
     "name": "stdout",
     "output_type": "stream",
     "text": [
      "              precision    recall  f1-score   support\n",
      "\n",
      "           0      0.862     0.976     0.915     34230\n",
      "           1      0.550     0.158     0.245      6359\n",
      "\n",
      "    accuracy                          0.848     40589\n",
      "   macro avg      0.706     0.567     0.580     40589\n",
      "weighted avg      0.813     0.848     0.810     40589\n",
      "\n",
      "ACCURACY: 0.8477912734977457\n",
      "RECALL: 0.15788646013524138\n"
     ]
    }
   ],
   "source": [
    "# classification report for Decision Tree \n",
    "print(classification_report(y_val, y_pred, digits=3, zero_division = 1))\n",
    "acc_nb = accuracy_score(y_val, y_pred)\n",
    "recall_nb = recall_score(y_val, y_pred, average=\"binary\")\n",
    "print(\"ACCURACY:\",accuracy_score(y_val, y_pred))\n",
    "print(\"RECALL:\",recall_score(y_val, y_pred, average=\"binary\"))"
   ]
  },
  {
   "cell_type": "code",
   "execution_count": 68,
   "id": "60b027cb",
   "metadata": {
    "scrolled": true
   },
   "outputs": [],
   "source": [
    "models_evalutions['Model'].append(\"Decision Tree Classification\")\n",
    "models_evalutions['Accuracy'].append(accuracy_score(y_val, y_pred))\n",
    "models_evalutions['Precision'].append(precision_score(y_val, y_pred))\n",
    "models_evalutions['Recall'].append(recall_score(y_val, y_pred))\n",
    "models_evalutions['F1 score'].append(f1_score(y_val, y_pred))"
   ]
  },
  {
   "cell_type": "code",
   "execution_count": 69,
   "id": "3fed7573",
   "metadata": {},
   "outputs": [
    {
     "data": {
      "image/png": "[encoded data removed]",
      "text/plain": [
       "<Figure size 432x288 with 2 Axes>"
      ]
     },
     "metadata": {
      "needs_background": "light"
     },
     "output_type": "display_data"
    }
   ],
   "source": [
    "# plotting confusion mtrix\n",
    "cm = confusion_matrix(y_val, y_pred)\n",
    "class_label = [\"No-Diabetes\", \"Diabetes\"]\n",
    "df_cm = pd.DataFrame(cm, index = class_label, columns = class_label)\n",
    "sns.heatmap(df_cm, annot = True, fmt = \"d\", cmap='Blues')\n",
    "plt.title('Confusion matrix for Decision Tree classification', fontsize = 20); # title with fontsize 20"
   ]
  },
  {
   "cell_type": "markdown",
   "id": "ziDHbuaZ7NPH",
   "metadata": {
    "id": "ziDHbuaZ7NPH"
   },
   "source": [
    "## Expreiment 5: Random Forest Classification "
   ]
  },
  {
   "cell_type": "code",
   "execution_count": 70,
   "id": "26eab2db",
   "metadata": {},
   "outputs": [],
   "source": [
    "x5_train=x_train.copy()\n",
    "x5_val=x_val.copy()"
   ]
  },
  {
   "cell_type": "code",
   "execution_count": 71,
   "id": "9303b7e2",
   "metadata": {},
   "outputs": [],
   "source": [
    "params = {\n",
    "    'n_estimators': [50, 100, 200],\n",
    "    'max_depth': [4, 6, 10, 12],\n",
    "    'random_state': [13]\n",
    "}"
   ]
  },
  {
   "cell_type": "code",
   "execution_count": 72,
   "id": "9fBQ2MumAWEV",
   "metadata": {
    "id": "9fBQ2MumAWEV"
   },
   "outputs": [],
   "source": [
    "#kf = KFold(n_splits=5, random_state=42, shuffle=False)\n",
    "example_params = {\n",
    "        'n_estimators': 50,\n",
    "        'max_depth':4 ,\n",
    "        'random_state': 13\n",
    "    }\n",
    "    "
   ]
  },
  {
   "cell_type": "code",
   "execution_count": 73,
   "id": "ec52a85c",
   "metadata": {
    "scrolled": false
   },
   "outputs": [
    {
     "data": {
      "text/plain": [
       "array([0.38011393, 0.38131033, 0.37633013, 0.37975118, 0.38690323])"
      ]
     },
     "execution_count": 73,
     "metadata": {},
     "output_type": "execute_result"
    }
   ],
   "source": [
    "imba_pipeline = make_pipeline(SMOTE(random_state=42),RandomForestClassifier(n_estimators=5, random_state=13))\n",
    "cross_val_score(imba_pipeline, x5_train, y_train, scoring='f1', cv=kf)"
   ]
  },
  {
   "cell_type": "code",
   "execution_count": 74,
   "id": "f8fe6b6e",
   "metadata": {
    "scrolled": true
   },
   "outputs": [
    {
     "data": {
      "text/plain": [
       "GridSearchCV(cv=KFold(n_splits=5, random_state=42, shuffle=True),\n",
       "             estimator=Pipeline(steps=[('smote', SMOTE(random_state=42)),\n",
       "                                       ('randomforestclassifier',\n",
       "                                        RandomForestClassifier(n_estimators=5,\n",
       "                                                               random_state=13))]),\n",
       "             param_grid={'randomforestclassifier__max_depth': [4, 6, 10, 12],\n",
       "                         'randomforestclassifier__n_estimators': [50, 100, 200],\n",
       "                         'randomforestclassifier__random_state': [13]},\n",
       "             return_train_score=True, scoring='f1')"
      ]
     },
     "execution_count": 74,
     "metadata": {},
     "output_type": "execute_result"
    }
   ],
   "source": [
    "new_params = {'randomforestclassifier__' + key: params[key] for key in params}\n",
    "grid_imba = GridSearchCV(imba_pipeline, param_grid=new_params, cv=kf, scoring='f1',return_train_score=True)\n",
    "grid_imba.fit(x5_train, y_train)"
   ]
  },
  {
   "cell_type": "code",
   "execution_count": 75,
   "id": "1c8320c4",
   "metadata": {},
   "outputs": [
    {
     "name": "stdout",
     "output_type": "stream",
     "text": [
      "Training Score In Random Forest Classification: 0.49778063686072693\n",
      "Validation Score In Random Forest Classification: 0.46517875594131014\n"
     ]
    }
   ],
   "source": [
    "print(\"Training Score In Random Forest Classification:\",grid_imba.score(x5_train, y_train))\n",
    "print(\"Validation Score In Random Forest Classification:\",grid_imba.score(x5_val, y_val))"
   ]
  },
  {
   "cell_type": "code",
   "execution_count": 76,
   "id": "e60870e7",
   "metadata": {},
   "outputs": [
    {
     "data": {
      "text/plain": [
       "{'randomforestclassifier__max_depth': 12,\n",
       " 'randomforestclassifier__n_estimators': 100,\n",
       " 'randomforestclassifier__random_state': 13}"
      ]
     },
     "execution_count": 76,
     "metadata": {},
     "output_type": "execute_result"
    }
   ],
   "source": [
    "rf_best=grid_imba.best_params_\n",
    "rf_best"
   ]
  },
  {
   "cell_type": "code",
   "execution_count": 77,
   "id": "5b149d11",
   "metadata": {},
   "outputs": [],
   "source": [
    "# Random Forest with best hyperparameter\n",
    "rf_best = RandomForestClassifier(n_estimators=100,\n",
    "                                 max_depth=12,\n",
    "                                 random_state=13)\n",
    "rf_best.fit(x5_train, y_train)\n",
    "y_pred = rf_best.predict(x5_val)\n"
   ]
  },
  {
   "cell_type": "code",
   "execution_count": 78,
   "id": "4a9c5bbb",
   "metadata": {},
   "outputs": [
    {
     "name": "stdout",
     "output_type": "stream",
     "text": [
      "Training Score In Random Forest Classification with best parameters: 0.8636444827692402\n",
      "Validation Score In Random Forest Classification:with best parameters 0.8488753110448644\n"
     ]
    }
   ],
   "source": [
    "print(\"Training Score In Random Forest Classification with best parameters:\",rf_best.score(x5_train, y_train))\n",
    "print(\"Validation Score In Random Forest Classification:with best parameters\",rf_best.score(x5_val, y_val))"
   ]
  },
  {
   "cell_type": "code",
   "execution_count": 79,
   "id": "eea00edd",
   "metadata": {},
   "outputs": [
    {
     "name": "stdout",
     "output_type": "stream",
     "text": [
      "              precision    recall  f1-score   support\n",
      "\n",
      "           0      0.863     0.976     0.916     34230\n",
      "           1      0.561     0.164     0.253      6359\n",
      "\n",
      "    accuracy                          0.849     40589\n",
      "   macro avg      0.712     0.570     0.585     40589\n",
      "weighted avg      0.815     0.849     0.812     40589\n",
      "\n",
      "ACCURACY: 0.8488753110448644\n",
      "RECALL: 0.16370498506054412\n"
     ]
    }
   ],
   "source": [
    "# classification report for Random forest \n",
    "print(classification_report(y_val, y_pred, digits=3, zero_division = 1))\n",
    "acc_nb = accuracy_score(y_val, y_pred)\n",
    "recall_nb = recall_score(y_val, y_pred, average=\"binary\")\n",
    "print(\"ACCURACY:\",accuracy_score(y_val, y_pred))\n",
    "print(\"RECALL:\",recall_score(y_val, y_pred, average=\"binary\"))"
   ]
  },
  {
   "cell_type": "code",
   "execution_count": 80,
   "id": "1a60a85f",
   "metadata": {},
   "outputs": [],
   "source": [
    "models_evalutions['Model'].append(\"RandomForestClassifier_best parameters\")\n",
    "models_evalutions['Accuracy'].append(accuracy_score(y_val, y_pred))\n",
    "models_evalutions['Precision'].append(precision_score(y_val, y_pred))\n",
    "models_evalutions['Recall'].append(recall_score(y_val, y_pred))\n",
    "models_evalutions['F1 score'].append(f1_score(y_val, y_pred))"
   ]
  },
  {
   "cell_type": "code",
   "execution_count": 81,
   "id": "342f0ac0",
   "metadata": {},
   "outputs": [
    {
     "data": {
      "image/png": "[encoded data removed]",
      "text/plain": [
       "<Figure size 432x288 with 2 Axes>"
      ]
     },
     "metadata": {
      "needs_background": "light"
     },
     "output_type": "display_data"
    }
   ],
   "source": [
    "# plotting confusion mtrix\n",
    "cm = confusion_matrix(y_val, y_pred)\n",
    "class_label = [\"No-Diabetes\", \"Diabetes\"]\n",
    "df_cm = pd.DataFrame(cm, index = class_label, columns = class_label)\n",
    "sns.heatmap(df_cm, annot = True, fmt = \"d\", cmap='Blues');\n",
    "plt.title('Confusion matrix for Random Forest classification with best parameters', fontsize = 20); # title with fontsize 20"
   ]
  },
  {
   "cell_type": "markdown",
   "id": "9e058bb9",
   "metadata": {},
   "source": [
    "## Experiment 6-1: Ensembling with Voting"
   ]
  },
  {
   "cell_type": "code",
   "execution_count": 82,
   "id": "ad0dffc3",
   "metadata": {},
   "outputs": [],
   "source": [
    "x6_train=x_train.copy()\n",
    "x6_val=x_val.copy()"
   ]
  },
  {
   "cell_type": "code",
   "execution_count": 83,
   "id": "7c6b921d",
   "metadata": {},
   "outputs": [],
   "source": [
    "model_names = [\"rf_best\",\"Dt_final\"]\n",
    "\n",
    "model_vars = [eval(n) for n in model_names]\n",
    "model_list = list(zip(model_names, model_vars))"
   ]
  },
  {
   "cell_type": "code",
   "execution_count": 84,
   "id": "9cea7708",
   "metadata": {},
   "outputs": [
    {
     "data": {
      "text/plain": [
       "['rf_best', 'Dt_final']"
      ]
     },
     "execution_count": 84,
     "metadata": {},
     "output_type": "execute_result"
    }
   ],
   "source": [
    "model_names"
   ]
  },
  {
   "cell_type": "code",
   "execution_count": 85,
   "id": "ffb6e411",
   "metadata": {},
   "outputs": [
    {
     "data": {
      "text/plain": [
       "[('rf_best', RandomForestClassifier(max_depth=12, random_state=13)),\n",
       " ('Dt_final',\n",
       "  DecisionTreeClassifier(criterion='entropy', max_depth=10, random_state=42))]"
      ]
     },
     "execution_count": 85,
     "metadata": {},
     "output_type": "execute_result"
    }
   ],
   "source": [
    "model_list"
   ]
  },
  {
   "cell_type": "code",
   "execution_count": 86,
   "id": "9ee0bf71",
   "metadata": {},
   "outputs": [
    {
     "name": "stdout",
     "output_type": "stream",
     "text": [
      "rf_best score: 0.8488753110448644\n",
      "Dt_final score: 0.8455739239695484\n"
     ]
    }
   ],
   "source": [
    "for model_name in model_names:\n",
    "    curr_model = eval(model_name)\n",
    "    print(f'{model_name} score: {curr_model.score(x_val, y_val)}')"
   ]
  },
  {
   "cell_type": "code",
   "execution_count": 87,
   "id": "741f2c28",
   "metadata": {
    "colab": {
     "base_uri": "https://localhost:8080/"
    },
    "id": "741f2c28",
    "outputId": "e104bdae-8534-4992-babc-d8fabc3cb409"
   },
   "outputs": [
    {
     "data": {
      "text/plain": [
       "VotingClassifier(estimators=[('rf_best',\n",
       "                              RandomForestClassifier(max_depth=12,\n",
       "                                                     random_state=13)),\n",
       "                             ('Dt_final',\n",
       "                              DecisionTreeClassifier(criterion='entropy',\n",
       "                                                     max_depth=10,\n",
       "                                                     random_state=42))],\n",
       "                 n_jobs=-1)"
      ]
     },
     "execution_count": 87,
     "metadata": {},
     "output_type": "execute_result"
    }
   ],
   "source": [
    "# create voting classifier\n",
    "voting_classifer = VotingClassifier(estimators=model_list,voting='hard', n_jobs=-1)\n",
    "voting_classifer.fit(x6_train, y_train)"
   ]
  },
  {
   "cell_type": "code",
   "execution_count": 88,
   "id": "20702161",
   "metadata": {
    "colab": {
     "base_uri": "https://localhost:8080/"
    },
    "id": "20702161",
    "outputId": "a76cc5ad-b735-4dec-d5a8-d936be1e382a"
   },
   "outputs": [],
   "source": [
    "# get accuracy (model to beat: RF with 0.8136 accuracy)\n",
    "y_pred = voting_classifer.predict(x_val)"
   ]
  },
  {
   "cell_type": "code",
   "execution_count": 89,
   "id": "8ec63ed9",
   "metadata": {},
   "outputs": [
    {
     "name": "stdout",
     "output_type": "stream",
     "text": [
      "Training Score In Hard Voting and select the best model scores(DT& RF)) 0.8584952727048751\n",
      "Training Score In HRD Voting and select the best model scores(DT& RF)) 0.8492448692995639\n"
     ]
    }
   ],
   "source": [
    "print(\"Training Score In Hard Voting and select the best model scores(DT& RF))\",voting_classifer.score(x6_train, y_train))\n",
    "print(\"Training Score In HRD Voting and select the best model scores(DT& RF))\",voting_classifer.score(x6_val, y_val))"
   ]
  },
  {
   "cell_type": "code",
   "execution_count": 90,
   "id": "391105e5",
   "metadata": {},
   "outputs": [
    {
     "name": "stdout",
     "output_type": "stream",
     "text": [
      "              precision    recall  f1-score   support\n",
      "\n",
      "           0      0.861     0.980     0.916     34230\n",
      "           1      0.573     0.148     0.235      6359\n",
      "\n",
      "    accuracy                          0.849     40589\n",
      "   macro avg      0.717     0.564     0.576     40589\n",
      "weighted avg      0.816     0.849     0.810     40589\n",
      "\n",
      "ACCURACY: 0.8492448692995639\n",
      "RECALL: 0.14782198458877183\n"
     ]
    }
   ],
   "source": [
    "# classification report for Voting \n",
    "print(classification_report(y_val, y_pred, digits=3, zero_division = 1))\n",
    "acc_nb = accuracy_score(y_val, y_pred)\n",
    "recall_nb = recall_score(y_val, y_pred, average=\"binary\")\n",
    "print(\"ACCURACY:\",accuracy_score(y_val, y_pred))\n",
    "print(\"RECALL:\",recall_score(y_val, y_pred, average=\"binary\"))"
   ]
  },
  {
   "cell_type": "code",
   "execution_count": 91,
   "id": "57466e8b",
   "metadata": {},
   "outputs": [],
   "source": [
    "models_evalutions['Model'].append(\"VotingClassifier-Hard\")\n",
    "models_evalutions['Accuracy'].append(accuracy_score(y_val, y_pred))\n",
    "models_evalutions['Recall'].append(recall_score(y_val, y_pred))\n",
    "models_evalutions['Precision'].append(precision_score(y_val, y_pred))\n",
    "models_evalutions['F1 score'].append(f1_score(y_val, y_pred))"
   ]
  },
  {
   "cell_type": "code",
   "execution_count": 92,
   "id": "55f49d9b",
   "metadata": {},
   "outputs": [
    {
     "data": {
      "image/png": "[encoded data removed]",
      "text/plain": [
       "<Figure size 432x288 with 2 Axes>"
      ]
     },
     "metadata": {
      "needs_background": "light"
     },
     "output_type": "display_data"
    }
   ],
   "source": [
    "# plotting confusion mtrix\n",
    "cm = confusion_matrix(y_val, y_pred)\n",
    "class_label = [\"No-Diabetes\", \"Diabetes\"]\n",
    "df_cm = pd.DataFrame(cm, index = class_label, columns = class_label)\n",
    "sns.heatmap(df_cm, annot = True, fmt = \"d\", cmap='Blues')\n",
    "plt.title('Confusion matrix for Voting', fontsize = 20); # title with fontsize 20"
   ]
  },
  {
   "cell_type": "markdown",
   "id": "f2fd3abf",
   "metadata": {
    "id": "f2fd3abf"
   },
   "source": [
    "## Experiment 6-2: Ensembling with Average Voting"
   ]
  },
  {
   "cell_type": "code",
   "execution_count": 93,
   "id": "811b1bb1",
   "metadata": {},
   "outputs": [],
   "source": [
    "x7_train=x_train.copy()\n",
    "x7_val=x_val.copy()"
   ]
  },
  {
   "cell_type": "code",
   "execution_count": 94,
   "id": "36be3d29",
   "metadata": {
    "colab": {
     "base_uri": "https://localhost:8080/"
    },
    "id": "36be3d29",
    "outputId": "1cd5d116-688a-44b3-e795-5045f7253bbd"
   },
   "outputs": [
    {
     "data": {
      "text/plain": [
       "VotingClassifier(estimators=[('rf_best',\n",
       "                              RandomForestClassifier(max_depth=12,\n",
       "                                                     random_state=13)),\n",
       "                             ('Dt_final',\n",
       "                              DecisionTreeClassifier(criterion='entropy',\n",
       "                                                     max_depth=10,\n",
       "                                                     random_state=42))],\n",
       "                 n_jobs=-1, voting='soft')"
      ]
     },
     "execution_count": 94,
     "metadata": {},
     "output_type": "execute_result"
    }
   ],
   "source": [
    "# create voting classifier\n",
    "voting_classifer = VotingClassifier(estimators=model_list,voting='soft', n_jobs=-1)\n",
    "voting_classifer.fit(x7_train, y_train)"
   ]
  },
  {
   "cell_type": "code",
   "execution_count": 95,
   "id": "bfea3965",
   "metadata": {},
   "outputs": [
    {
     "name": "stdout",
     "output_type": "stream",
     "text": [
      "Training Score In Average Voting and select the best model scores(DT& RF)) 0.8603061193064581\n",
      "Training Score In Avaerage Voting and select the best model scores(DT& RF)) 0.8477666362807658\n"
     ]
    }
   ],
   "source": [
    "print(\"Training Score In Average Voting and select the best model scores(DT& RF))\",voting_classifer.score(x7_train, y_train))\n",
    "print(\"Training Score In Avaerage Voting and select the best model scores(DT& RF))\",voting_classifer.score(x7_val, y_val))"
   ]
  },
  {
   "cell_type": "code",
   "execution_count": 96,
   "id": "138939f1",
   "metadata": {
    "colab": {
     "base_uri": "https://localhost:8080/"
    },
    "id": "138939f1",
    "outputId": "ad6bcb97-ec56-4fad-ebf8-9332f3e21c98"
   },
   "outputs": [],
   "source": [
    "# Get accuracy (model to beat: RF with 0.8136 accuracy)\n",
    "y_pred = voting_classifer.predict(x7_val)"
   ]
  },
  {
   "cell_type": "code",
   "execution_count": 97,
   "id": "01274cf7",
   "metadata": {},
   "outputs": [
    {
     "name": "stdout",
     "output_type": "stream",
     "text": [
      "              precision    recall  f1-score   support\n",
      "\n",
      "           0      0.864     0.972     0.915     34230\n",
      "           1      0.544     0.177     0.267      6359\n",
      "\n",
      "    accuracy                          0.848     40589\n",
      "   macro avg      0.704     0.575     0.591     40589\n",
      "weighted avg      0.814     0.848     0.813     40589\n",
      "\n",
      "ACCURACY: 0.8477666362807658\n",
      "RECALL: 0.17675735178487184\n"
     ]
    }
   ],
   "source": [
    "# classification report for voting avarage\n",
    "print(classification_report(y_val, y_pred, digits=3, zero_division = 1))\n",
    "acc_nb = accuracy_score(y_val, y_pred)\n",
    "recall_nb = recall_score(y_val, y_pred, average=\"binary\")\n",
    "print(\"ACCURACY:\",accuracy_score(y_val, y_pred))\n",
    "print(\"RECALL:\",recall_score(y_val, y_pred, average=\"binary\"))"
   ]
  },
  {
   "cell_type": "code",
   "execution_count": 98,
   "id": "9a128467",
   "metadata": {},
   "outputs": [],
   "source": [
    "models_evalutions['Model'].append(\"VotingClassifier-Average Voting\")\n",
    "models_evalutions['Accuracy'].append(accuracy_score(y_val, y_pred))\n",
    "models_evalutions['Recall'].append(recall_score(y_val, y_pred))\n",
    "models_evalutions['Precision'].append(precision_score(y_val, y_pred))\n",
    "models_evalutions['F1 score'].append(f1_score(y_val, y_pred))"
   ]
  },
  {
   "cell_type": "code",
   "execution_count": 99,
   "id": "c892ef8c",
   "metadata": {},
   "outputs": [
    {
     "data": {
      "image/png": "[encoded data removed]",
      "text/plain": [
       "<Figure size 432x288 with 2 Axes>"
      ]
     },
     "metadata": {
      "needs_background": "light"
     },
     "output_type": "display_data"
    }
   ],
   "source": [
    "# plotting confusion mtrix\n",
    "cm = confusion_matrix(y_val, y_pred)\n",
    "class_label = [\"No-Diabetes\", \"Diabetes\"]\n",
    "df_cm = pd.DataFrame(cm, index = class_label, columns = class_label)\n",
    "sns.heatmap(df_cm, annot = True, fmt = \"d\", cmap='Blues')\n",
    "plt.title('Confusion matrix for Avarege Voting', fontsize = 20); # title with fontsize 20"
   ]
  },
  {
   "cell_type": "markdown",
   "id": "c28ffeb1",
   "metadata": {
    "id": "c28ffeb1"
   },
   "source": [
    "## Experiment 6-3: Ensembling with Weighted Voting"
   ]
  },
  {
   "cell_type": "code",
   "execution_count": 100,
   "id": "8f7da774",
   "metadata": {},
   "outputs": [],
   "source": [
    "x8_train=x_train.copy()\n",
    "x8_val=x_val.copy()"
   ]
  },
  {
   "cell_type": "code",
   "execution_count": 101,
   "id": "b001ff0e",
   "metadata": {
    "colab": {
     "base_uri": "https://localhost:8080/"
    },
    "id": "b001ff0e",
    "outputId": "c4d1519f-6044-4a9e-96ca-b22b98e57af4"
   },
   "outputs": [
    {
     "data": {
      "text/plain": [
       "VotingClassifier(estimators=[('rf_best',\n",
       "                              RandomForestClassifier(max_depth=12,\n",
       "                                                     random_state=13)),\n",
       "                             ('Dt_final',\n",
       "                              DecisionTreeClassifier(criterion='entropy',\n",
       "                                                     max_depth=10,\n",
       "                                                     random_state=42))],\n",
       "                 n_jobs=-1, voting='soft', weights=[1.5, 3.8])"
      ]
     },
     "execution_count": 101,
     "metadata": {},
     "output_type": "execute_result"
    }
   ],
   "source": [
    "# create voting classifier\n",
    "weights = [1.5,3.8]\n",
    "voting_model = VotingClassifier(estimators=model_list, voting='soft', weights = weights, n_jobs=-1)\n",
    "voting_model.fit(x8_train, y_train)"
   ]
  },
  {
   "cell_type": "code",
   "execution_count": 102,
   "id": "3dec0307",
   "metadata": {
    "colab": {
     "base_uri": "https://localhost:8080/"
    },
    "id": "3dec0307",
    "outputId": "8e616537-9498-4832-92f6-23dbbab06e35"
   },
   "outputs": [],
   "source": [
    "# Get accuracy (model to beat: RF with 0.8136 accuracy)\n",
    "y_pred = voting_model.predict(x8_val)"
   ]
  },
  {
   "cell_type": "code",
   "execution_count": 103,
   "id": "a227e372",
   "metadata": {},
   "outputs": [
    {
     "name": "stdout",
     "output_type": "stream",
     "text": [
      "Training Score In Weighted Voting and select the best model scores(DT& RF)) 0.8577068769055465\n",
      "Training Score In Weighted Voting and select the best model scores(DT& RF)) 0.8465347754317673\n"
     ]
    }
   ],
   "source": [
    "print(\"Training Score In Weighted Voting and select the best model scores(DT& RF))\",voting_model.score(x7_train, y_train))\n",
    "print(\"Training Score In Weighted Voting and select the best model scores(DT& RF))\",voting_model.score(x7_val, y_val))"
   ]
  },
  {
   "cell_type": "code",
   "execution_count": 104,
   "id": "7891d137",
   "metadata": {},
   "outputs": [
    {
     "name": "stdout",
     "output_type": "stream",
     "text": [
      "              precision    recall  f1-score   support\n",
      "\n",
      "           0      0.866     0.968     0.914     34230\n",
      "           1      0.528     0.192     0.282      6359\n",
      "\n",
      "    accuracy                          0.847     40589\n",
      "   macro avg      0.697     0.580     0.598     40589\n",
      "weighted avg      0.813     0.847     0.815     40589\n",
      "\n",
      "ACCURACY: 0.8465347754317673\n",
      "RECALL: 0.1920113225349898\n"
     ]
    }
   ],
   "source": [
    "# classification report for Naive Bayes\n",
    "print(classification_report(y_val, y_pred, digits=3, zero_division = 1))\n",
    "acc_nb = accuracy_score(y_val, y_pred)\n",
    "recall_nb = recall_score(y_val, y_pred, average=\"binary\")\n",
    "print(\"ACCURACY:\",accuracy_score(y_val, y_pred))\n",
    "print(\"RECALL:\",recall_score(y_val, y_pred, average=\"binary\"))"
   ]
  },
  {
   "cell_type": "code",
   "execution_count": 105,
   "id": "43e782e6",
   "metadata": {},
   "outputs": [],
   "source": [
    "models_evalutions['Model'].append(\"VotingClassifier-Weighted Voting\")\n",
    "models_evalutions['Accuracy'].append(accuracy_score(y_val, y_pred))\n",
    "models_evalutions['Recall'].append(recall_score(y_val, y_pred))\n",
    "models_evalutions['Precision'].append(precision_score(y_val, y_pred))\n",
    "models_evalutions['F1 score'].append(f1_score(y_val, y_pred))"
   ]
  },
  {
   "cell_type": "code",
   "execution_count": 106,
   "id": "ab9fdf22",
   "metadata": {},
   "outputs": [
    {
     "data": {
      "image/png": "[encoded data removed]",
      "text/plain": [
       "<Figure size 432x288 with 2 Axes>"
      ]
     },
     "metadata": {
      "needs_background": "light"
     },
     "output_type": "display_data"
    }
   ],
   "source": [
    "# plotting confusion mtrix\n",
    "cm = confusion_matrix(y_val, y_pred)\n",
    "class_label = [\"No-Diabetes\", \"Diabetes\"]\n",
    "df_cm = pd.DataFrame(cm, index = class_label, columns = class_label)\n",
    "sns.heatmap(df_cm, annot = True, fmt = \"d\", cmap='Blues')\n",
    "plt.title('Confusion matrix for Wieghted Voting', fontsize = 20); # title with fontsize 20"
   ]
  },
  {
   "cell_type": "markdown",
   "id": "2797f031",
   "metadata": {},
   "source": [
    "# Expreiment 7: Bagging"
   ]
  },
  {
   "cell_type": "code",
   "execution_count": 107,
   "id": "9f3a176c",
   "metadata": {},
   "outputs": [],
   "source": [
    "from sklearn.tree import DecisionTreeClassifier\n",
    "from sklearn.model_selection import cross_val_score\n",
    "from sklearn.ensemble import BaggingClassifier\n",
    "tree_clas = DecisionTreeClassifier(random_state=42)"
   ]
  },
  {
   "cell_type": "code",
   "execution_count": 108,
   "id": "b8a01ee7",
   "metadata": {},
   "outputs": [],
   "source": [
    "bag_model = BaggingClassifier(\n",
    "    base_estimator = DecisionTreeClassifier(),\n",
    "    n_estimators = 100,\n",
    "    max_samples = 0.8,\n",
    "    oob_score=True,\n",
    "    random_state = 0\n",
    ")"
   ]
  },
  {
   "cell_type": "code",
   "execution_count": 109,
   "id": "5174bf07",
   "metadata": {},
   "outputs": [
    {
     "data": {
      "text/plain": [
       "BaggingClassifier(base_estimator=DecisionTreeClassifier(), max_samples=0.8,\n",
       "                  n_estimators=100, oob_score=True, random_state=0)"
      ]
     },
     "execution_count": 109,
     "metadata": {},
     "output_type": "execute_result"
    }
   ],
   "source": [
    "bag_model.fit(x_train, y_train)"
   ]
  },
  {
   "cell_type": "code",
   "execution_count": 110,
   "id": "43e7cdf2",
   "metadata": {},
   "outputs": [
    {
     "data": {
      "text/plain": [
       "0.8310246065720182"
      ]
     },
     "execution_count": 110,
     "metadata": {},
     "output_type": "execute_result"
    }
   ],
   "source": [
    "bag_model.oob_score_"
   ]
  },
  {
   "cell_type": "code",
   "execution_count": 111,
   "id": "7a03f7c6",
   "metadata": {},
   "outputs": [
    {
     "data": {
      "text/plain": [
       "0.8293133607627683"
      ]
     },
     "execution_count": 111,
     "metadata": {},
     "output_type": "execute_result"
    }
   ],
   "source": [
    "bag_model.score(x_val,y_val)"
   ]
  },
  {
   "cell_type": "code",
   "execution_count": 112,
   "id": "304683f7",
   "metadata": {},
   "outputs": [
    {
     "name": "stdout",
     "output_type": "stream",
     "text": [
      "DT Accuracy= 0.8477912734977457\n",
      "DT F1 score= 0.24529684827754702\n"
     ]
    }
   ],
   "source": [
    "y_pred = tree.predict(x_val)\n",
    "\n",
    "print(\"DT Accuracy=\",accuracy_score(y_val, y_pred))\n",
    "print(\"DT F1 score=\",f1_score(y_val, y_pred))"
   ]
  },
  {
   "cell_type": "code",
   "execution_count": 113,
   "id": "6495cf33",
   "metadata": {},
   "outputs": [
    {
     "name": "stdout",
     "output_type": "stream",
     "text": [
      "              precision    recall  f1-score   support\n",
      "\n",
      "           0      0.862     0.976     0.915     34230\n",
      "           1      0.550     0.158     0.245      6359\n",
      "\n",
      "    accuracy                          0.848     40589\n",
      "   macro avg      0.706     0.567     0.580     40589\n",
      "weighted avg      0.813     0.848     0.810     40589\n",
      "\n",
      "ACCURACY: 0.8477912734977457\n",
      "RECALL: 0.15788646013524138\n"
     ]
    }
   ],
   "source": [
    "# classification report Baggin\n",
    "print(classification_report(y_val, y_pred, digits=3, zero_division = 1))\n",
    "acc_nb = accuracy_score(y_val, y_pred)\n",
    "recall_nb = recall_score(y_val, y_pred, average=\"binary\")\n",
    "print(\"ACCURACY:\",accuracy_score(y_val, y_pred))\n",
    "print(\"RECALL:\",recall_score(y_val, y_pred, average=\"binary\"))"
   ]
  },
  {
   "cell_type": "code",
   "execution_count": 114,
   "id": "7daf77a7",
   "metadata": {},
   "outputs": [],
   "source": [
    "models_evalutions['Model'].append(\" BaggingClassifier\")\n",
    "models_evalutions['Accuracy'].append(accuracy_score(y_val, y_pred))\n",
    "models_evalutions['Recall'].append(recall_score(y_val, y_pred))\n",
    "models_evalutions['Precision'].append(precision_score(y_val, y_pred))\n",
    "models_evalutions['F1 score'].append(f1_score(y_val, y_pred))"
   ]
  },
  {
   "cell_type": "code",
   "execution_count": 115,
   "id": "4dd6ad86",
   "metadata": {},
   "outputs": [
    {
     "data": {
      "image/png": "[encoded data removed]",
      "text/plain": [
       "<Figure size 432x288 with 2 Axes>"
      ]
     },
     "metadata": {
      "needs_background": "light"
     },
     "output_type": "display_data"
    }
   ],
   "source": [
    "# plotting confusion mtrix\n",
    "cm = confusion_matrix(y_val, y_pred)\n",
    "class_label = [\"No-Diabetes\", \"Diabetes\"]\n",
    "df_cm = pd.DataFrame(cm, index = class_label, columns = class_label)\n",
    "sns.heatmap(df_cm, annot = True, fmt = \"d\", cmap='Blues')\n",
    "plt.title('Confusion matrix for BaggingClassifier', fontsize = 20); # title with fontsize 20"
   ]
  },
  {
   "cell_type": "markdown",
   "id": "2d8d2c5b",
   "metadata": {},
   "source": [
    "# Expreiment 8 : Naive Bayes"
   ]
  },
  {
   "cell_type": "code",
   "execution_count": 116,
   "id": "ef5fed58",
   "metadata": {},
   "outputs": [],
   "source": [
    "from sklearn.naive_bayes import GaussianNB\n",
    "from sklearn.neighbors import KNeighborsClassifier"
   ]
  },
  {
   "cell_type": "code",
   "execution_count": 117,
   "id": "e4796200",
   "metadata": {},
   "outputs": [
    {
     "name": "stdout",
     "output_type": "stream",
     "text": [
      "Naive Bayes val score:  0.7901894601985759\n",
      "Naive Bayes Train score:  0.7905638877767854\n"
     ]
    }
   ],
   "source": [
    "nb = GaussianNB()\n",
    "nb.fit(x_train,y_train)\n",
    "print(\"Naive Bayes val score: \",nb.score(x_val,y_val))\n",
    "print(\"Naive Bayes Train score: \",nb.score(x_train,y_train))\n",
    "y_pred_nb = nb.predict(x_val)"
   ]
  },
  {
   "cell_type": "code",
   "execution_count": 118,
   "id": "e1b89196",
   "metadata": {},
   "outputs": [],
   "source": [
    "y_pred=nb.predict(x_val)"
   ]
  },
  {
   "cell_type": "code",
   "execution_count": 119,
   "id": "bb1a066b",
   "metadata": {},
   "outputs": [
    {
     "name": "stdout",
     "output_type": "stream",
     "text": [
      "              precision    recall  f1-score   support\n",
      "\n",
      "           0      0.897     0.848     0.872     34230\n",
      "           1      0.369     0.478     0.416      6359\n",
      "\n",
      "    accuracy                          0.790     40589\n",
      "   macro avg      0.633     0.663     0.644     40589\n",
      "weighted avg      0.815     0.790     0.801     40589\n",
      "\n",
      "ACCURACY: 0.7901894601985759\n",
      "RECALL: 0.47790533102689103\n"
     ]
    }
   ],
   "source": [
    "# classification report for Naive Bayes\n",
    "print(classification_report(y_val, y_pred, digits=3, zero_division = 1))\n",
    "acc_nb = accuracy_score(y_val, y_pred)\n",
    "recall_nb = recall_score(y_val, y_pred, average=\"binary\")\n",
    "print(\"ACCURACY:\",accuracy_score(y_val, y_pred))\n",
    "print(\"RECALL:\",recall_score(y_val, y_pred, average=\"binary\"))"
   ]
  },
  {
   "cell_type": "code",
   "execution_count": 120,
   "id": "17eda0d2",
   "metadata": {},
   "outputs": [],
   "source": [
    "models_evalutions['Model'].append(\"Naive-B\")\n",
    "models_evalutions['Accuracy'].append(accuracy_score(y_val, y_pred))\n",
    "models_evalutions['Precision'].append(precision_score(y_val, y_pred))\n",
    "models_evalutions['Recall'].append(recall_score(y_val, y_pred))\n",
    "models_evalutions['F1 score'].append(f1_score(y_val, y_pred))"
   ]
  },
  {
   "cell_type": "code",
   "execution_count": 121,
   "id": "c2b5420b",
   "metadata": {},
   "outputs": [
    {
     "data": {
      "image/png": "[encoded data removed]",
      "text/plain": [
       "<Figure size 432x288 with 2 Axes>"
      ]
     },
     "metadata": {
      "needs_background": "light"
     },
     "output_type": "display_data"
    }
   ],
   "source": [
    "# plotting confusion mtrix\n",
    "cm = confusion_matrix(y_val, y_pred)\n",
    "class_label = [\"No-Diabetes\", \"Diabetes\"]\n",
    "df_cm = pd.DataFrame(cm, index = class_label, columns = class_label)\n",
    "sns.heatmap(df_cm, annot = True, fmt = \"d\", cmap='Blues')\n",
    "plt.title('Confusion matrix forGaussianNB', fontsize = 20); # title with fontsize 20"
   ]
  },
  {
   "cell_type": "code",
   "execution_count": 124,
   "id": "2b7485bf",
   "metadata": {},
   "outputs": [
    {
     "data": {
      "text/html": [
       "<div>\n",
       "<style scoped>\n",
       "    .dataframe tbody tr th:only-of-type {\n",
       "        vertical-align: middle;\n",
       "    }\n",
       "\n",
       "    .dataframe tbody tr th {\n",
       "        vertical-align: top;\n",
       "    }\n",
       "\n",
       "    .dataframe thead th {\n",
       "        text-align: right;\n",
       "    }\n",
       "</style>\n",
       "<table border=\"1\" class=\"dataframe\">\n",
       "  <thead>\n",
       "    <tr style=\"text-align: right;\">\n",
       "      <th></th>\n",
       "      <th>Model</th>\n",
       "      <th>Accuracy</th>\n",
       "      <th>Precision</th>\n",
       "      <th>Recall</th>\n",
       "      <th>F1 score</th>\n",
       "    </tr>\n",
       "  </thead>\n",
       "  <tbody>\n",
       "    <tr>\n",
       "      <th>0</th>\n",
       "      <td>KNN after balance our target's labels</td>\n",
       "      <td>0.742663</td>\n",
       "      <td>0.313909</td>\n",
       "      <td>0.551049</td>\n",
       "      <td>0.399971</td>\n",
       "    </tr>\n",
       "    <tr>\n",
       "      <th>1</th>\n",
       "      <td>LogisticRegression with Smote</td>\n",
       "      <td>0.724925</td>\n",
       "      <td>0.332380</td>\n",
       "      <td>0.749332</td>\n",
       "      <td>0.460498</td>\n",
       "    </tr>\n",
       "    <tr>\n",
       "      <th>2</th>\n",
       "      <td>Decision Tree Classification</td>\n",
       "      <td>0.847791</td>\n",
       "      <td>0.549535</td>\n",
       "      <td>0.157886</td>\n",
       "      <td>0.245297</td>\n",
       "    </tr>\n",
       "    <tr>\n",
       "      <th>3</th>\n",
       "      <td>RandomForestClassifier_best parameters</td>\n",
       "      <td>0.848875</td>\n",
       "      <td>0.560582</td>\n",
       "      <td>0.163705</td>\n",
       "      <td>0.253408</td>\n",
       "    </tr>\n",
       "    <tr>\n",
       "      <th>4</th>\n",
       "      <td>VotingClassifier-Hard</td>\n",
       "      <td>0.849245</td>\n",
       "      <td>0.573171</td>\n",
       "      <td>0.147822</td>\n",
       "      <td>0.235029</td>\n",
       "    </tr>\n",
       "    <tr>\n",
       "      <th>5</th>\n",
       "      <td>VotingClassifier-Average Voting</td>\n",
       "      <td>0.847767</td>\n",
       "      <td>0.543520</td>\n",
       "      <td>0.176757</td>\n",
       "      <td>0.266762</td>\n",
       "    </tr>\n",
       "    <tr>\n",
       "      <th>6</th>\n",
       "      <td>VotingClassifier-Weighted Voting</td>\n",
       "      <td>0.846535</td>\n",
       "      <td>0.528114</td>\n",
       "      <td>0.192011</td>\n",
       "      <td>0.281628</td>\n",
       "    </tr>\n",
       "    <tr>\n",
       "      <th>7</th>\n",
       "      <td>BaggingClassifier</td>\n",
       "      <td>0.847791</td>\n",
       "      <td>0.549535</td>\n",
       "      <td>0.157886</td>\n",
       "      <td>0.245297</td>\n",
       "    </tr>\n",
       "    <tr>\n",
       "      <th>8</th>\n",
       "      <td>Naive-B</td>\n",
       "      <td>0.790189</td>\n",
       "      <td>0.369035</td>\n",
       "      <td>0.477905</td>\n",
       "      <td>0.416473</td>\n",
       "    </tr>\n",
       "  </tbody>\n",
       "</table>\n",
       "</div>"
      ],
      "text/plain": [
       "                                    Model  Accuracy  Precision    Recall  \\\n",
       "0   KNN after balance our target's labels  0.742663   0.313909  0.551049   \n",
       "1           LogisticRegression with Smote  0.724925   0.332380  0.749332   \n",
       "2            Decision Tree Classification  0.847791   0.549535  0.157886   \n",
       "3  RandomForestClassifier_best parameters  0.848875   0.560582  0.163705   \n",
       "4                   VotingClassifier-Hard  0.849245   0.573171  0.147822   \n",
       "5         VotingClassifier-Average Voting  0.847767   0.543520  0.176757   \n",
       "6        VotingClassifier-Weighted Voting  0.846535   0.528114  0.192011   \n",
       "7                       BaggingClassifier  0.847791   0.549535  0.157886   \n",
       "8                                 Naive-B  0.790189   0.369035  0.477905   \n",
       "\n",
       "   F1 score  \n",
       "0  0.399971  \n",
       "1  0.460498  \n",
       "2  0.245297  \n",
       "3  0.253408  \n",
       "4  0.235029  \n",
       "5  0.266762  \n",
       "6  0.281628  \n",
       "7  0.245297  \n",
       "8  0.416473  "
      ]
     },
     "execution_count": 124,
     "metadata": {},
     "output_type": "execute_result"
    }
   ],
   "source": [
    "result= pd.DataFrame.from_dict(models_evalutions)\n",
    "result"
   ]
  },
  {
   "cell_type": "code",
   "execution_count": 126,
   "id": "7bb2db63",
   "metadata": {},
   "outputs": [
    {
     "data": {
      "image/png": "[encoded data removed]",
      "text/plain": [
       "<Figure size 720x720 with 1 Axes>"
      ]
     },
     "metadata": {
      "needs_background": "light"
     },
     "output_type": "display_data"
    }
   ],
   "source": [
    "cmap = sns.diverging_palette(220, 10, as_cmap=True)\n",
    "result.plot.bar(x='Model',y=['Accuracy','F1 score','Precision','Recall'], cmap=cmap, figsize=(10,10))\n",
    "plt.title(\"Comparison of Scores of the Models\")\n",
    "plt.ylabel(\"Models\")\n",
    "plt.ylim(0.50, 1.0)\n",
    "plt.xlabel(\"ML Algorithms's scores in Diabetes Dataset\")\n",
    "plt.show()"
   ]
  }
 ],
 "metadata": {
  "colab": {
   "collapsed_sections": [],
   "name": "Diabetes Health Indicators Classification Model.ipynb",
   "provenance": []
  },
  "kernelspec": {
   "display_name": "Python 3",
   "language": "python",
   "name": "python3"
  },
  "language_info": {
   "codemirror_mode": {
    "name": "ipython",
    "version": 3
   },
   "file_extension": ".py",
   "mimetype": "text/x-python",
   "name": "python",
   "nbconvert_exporter": "python",
   "pygments_lexer": "ipython3",
   "version": "3.8.8"
  }
 },
 "nbformat": 4,
 "nbformat_minor": 5
}
