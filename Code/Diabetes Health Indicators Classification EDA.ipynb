{
 "cells": [
  {
   "cell_type": "markdown",
   "id": "b8e6cbf2",
   "metadata": {},
   "source": [
    "# Import Libraries"
   ]
  },
  {
   "cell_type": "code",
   "execution_count": null,
   "id": "f22c14a9",
   "metadata": {},
   "outputs": [],
   "source": [
    "#Python libraries\n",
    "#Classic,data manipulation \n",
    "import numpy as np\n",
    "import pandas as pd\n",
    "# Plots\n",
    "import plotly.graph_objects as go\n",
    "import plotly.offline as po\n",
    "from plotly.offline import download_plotlyjs, init_notebook_mode, plot, iplot\n",
    "import matplotlib.pyplot as plt\n",
    "import seaborn as sns\n",
    "import dash\n",
    "import plotly.express as px\n",
    "import random\n",
    "import plotly.figure_factory as ff\n",
    "from plotly import tools\n",
    "from plotly.subplots import make_subplots\n",
    "from plotly.offline import iplot\n",
    "import warnings\n",
    "warnings.filterwarnings(\"ignore\")\n",
    "pd.set_option(\"display.max_rows\",None)\n",
    "from sklearn import preprocessing \n",
    "from sklearn.metrics import precision_score, recall_score, precision_recall_curve,f1_score, fbeta_score\n",
    "%matplotlib inline\n",
    "import seaborn as sns\n",
    "import matplotlib.pyplot as plt\n",
    "%matplotlib inline\n",
    "import plotly.offline as py\n",
    "import plotly.graph_objs as go\n",
    "from plotly.offline import download_plotlyjs, init_notebook_mode, plot, iplot\n",
    "import plotly.tools as tls\n",
    "import plotly.figure_factory as ff\n",
    "py.init_notebook_mode(connected=True)\n",
    "# Dataprep\n",
    "from dataprep.eda import create_report\n",
    "from dataprep.eda import plot_missing\n",
    "from dataprep.eda import plot_correlation\n",
    "from dataprep.eda import plot\n",
    "# Modeling \n",
    "from sklearn.preprocessing import MinMaxScaler, StandardScaler\n",
    "from sklearn.model_selection import cross_val_score \n",
    "from sklearn.model_selection import GridSearchCV\n",
    "from sklearn.neighbors import KNeighborsClassifier\n",
    "from sklearn.ensemble import RandomForestClassifier\n",
    "from imblearn.combine import SMOTEENN #resampling\n",
    "from sklearn import datasets, linear_model, metrics\n",
    "from sklearn.metrics import accuracy_score, confusion_matrix, classification_report\n",
    "from sklearn.preprocessing import StandardScaler\n",
    "from sklearn.model_selection import train_test_split"
   ]
  },
  {
   "cell_type": "markdown",
   "id": "e7e90c47",
   "metadata": {},
   "source": [
    "# Load Dataset "
   ]
  },
  {
   "cell_type": "code",
   "execution_count": null,
   "id": "68a55880",
   "metadata": {
    "scrolled": false
   },
   "outputs": [],
   "source": [
    "df=pd.read_csv(\"diabetes_012_health_indicators_BRFSS2015.csv\") \n",
    "df.head()"
   ]
  },
  {
   "cell_type": "markdown",
   "id": "9a467133",
   "metadata": {},
   "source": [
    "# Explore Dataset"
   ]
  },
  {
   "cell_type": "code",
   "execution_count": null,
   "id": "ca08bfbe",
   "metadata": {},
   "outputs": [],
   "source": [
    "df.info()"
   ]
  },
  {
   "cell_type": "code",
   "execution_count": null,
   "id": "4bec0217",
   "metadata": {},
   "outputs": [],
   "source": [
    "df.shape"
   ]
  },
  {
   "cell_type": "code",
   "execution_count": null,
   "id": "2b791aa7",
   "metadata": {},
   "outputs": [],
   "source": [
    "df.sample(10)"
   ]
  },
  {
   "cell_type": "code",
   "execution_count": null,
   "id": "7b6dbfc1",
   "metadata": {},
   "outputs": [],
   "source": [
    "df.columns"
   ]
  },
  {
   "cell_type": "code",
   "execution_count": null,
   "id": "d41af7c6",
   "metadata": {
    "scrolled": false
   },
   "outputs": [],
   "source": [
    "# to rename the some columns important of dataset\n",
    "df.rename(columns={'Diabetes_012': 'Diabetes_Type'}, inplace=True)\n",
    "df.head()"
   ]
  },
  {
   "cell_type": "markdown",
   "id": "8b5dbef2",
   "metadata": {},
   "source": [
    "# Cleaning Dataset"
   ]
  },
  {
   "cell_type": "code",
   "execution_count": null,
   "id": "e314c7da",
   "metadata": {
    "scrolled": true
   },
   "outputs": [],
   "source": [
    "df.isna().sum() # No missing value"
   ]
  },
  {
   "cell_type": "code",
   "execution_count": null,
   "id": "bc9e6f2f",
   "metadata": {},
   "outputs": [],
   "source": [
    "df.BMI.unique()"
   ]
  },
  {
   "cell_type": "markdown",
   "id": "99017ddb",
   "metadata": {},
   "source": [
    "Would you say that in general your health is:scale 1-5:\n",
    "> 1 = excellent \n",
    "\n",
    "> 2 = very good \n",
    "\n",
    "> 3 = good \n",
    "\n",
    "> 4 = fair \n",
    "\n",
    "> 5 = poor\n"
   ]
  },
  {
   "cell_type": "code",
   "execution_count": null,
   "id": "b1b8d512",
   "metadata": {},
   "outputs": [],
   "source": [
    "df.GenHlth.unique()"
   ]
  },
  {
   "cell_type": "markdown",
   "id": "6fc5df4e",
   "metadata": {},
   "source": [
    "Mental health scale:\n",
    "\n",
    "> scale 1-30 days ."
   ]
  },
  {
   "cell_type": "code",
   "execution_count": null,
   "id": "3e523bf2",
   "metadata": {},
   "outputs": [],
   "source": [
    "df.MentHlth.unique()"
   ]
  },
  {
   "cell_type": "markdown",
   "id": "cd4dec9d",
   "metadata": {},
   "source": [
    "Now thinking about your physical health, for how many days during the past 30 days \n",
    "was your physical health not good?\n",
    "\n",
    "> scale 1-30 days "
   ]
  },
  {
   "cell_type": "code",
   "execution_count": null,
   "id": "721bf946",
   "metadata": {},
   "outputs": [],
   "source": [
    "df.PhysHlth.unique()"
   ]
  },
  {
   "cell_type": "markdown",
   "id": "c5b1d726",
   "metadata": {},
   "source": [
    "13-level age categorys:(_AGEG5YR see codebook)\n",
    "> 1 = 18-24 \n",
    "\n",
    "> 9 = 60-64 \n",
    "\n",
    "> 13 = 80 or older \n"
   ]
  },
  {
   "cell_type": "code",
   "execution_count": null,
   "id": "5ec8e038",
   "metadata": {},
   "outputs": [],
   "source": [
    "df.Age.unique()"
   ]
  },
  {
   "cell_type": "markdown",
   "id": "31459d38",
   "metadata": {},
   "source": [
    "Education level (EDUCA see codebook) scale 1-6:\n",
    "> 1 = Never attended school or only kindergarten \n",
    "\n",
    "> 2 = Grades 1 through 8 (Elementary)\n",
    "\n",
    "> 3 = Grades 9 throug 11 (Some high school)\n",
    "\n",
    "> 4 = Grade 12 or GED (High school graduate)\n",
    "\n",
    "> 5 = College 1 year to 3 years (Some college or technical school) \n",
    "\n",
    "> 6 = College 4 years or more (College graduate)"
   ]
  },
  {
   "cell_type": "code",
   "execution_count": null,
   "id": "523d0acd",
   "metadata": {},
   "outputs": [],
   "source": [
    "df.Education.unique()"
   ]
  },
  {
   "cell_type": "markdown",
   "id": "eb00c4d3",
   "metadata": {},
   "source": [
    "Income scale 1-8:\n",
    "> 1 = less than $10,000 \n",
    "\n",
    "> 5 = less than $35,000 \n",
    "\n",
    "> 8 = $75,000 or more\n",
    "\n"
   ]
  },
  {
   "cell_type": "code",
   "execution_count": null,
   "id": "877b3fa6",
   "metadata": {},
   "outputs": [],
   "source": [
    "df.Income.unique()"
   ]
  },
  {
   "cell_type": "code",
   "execution_count": null,
   "id": "6841ee38",
   "metadata": {},
   "outputs": [],
   "source": [
    "df.Diabetes_Type.unique()"
   ]
  },
  {
   "cell_type": "code",
   "execution_count": null,
   "id": "2f6a3348",
   "metadata": {
    "scrolled": false
   },
   "outputs": [],
   "source": [
    "Diabetes=df['Diabetes_Type']\n",
    "Diabetes.value_counts()"
   ]
  },
  {
   "cell_type": "code",
   "execution_count": null,
   "id": "10de13c7",
   "metadata": {},
   "outputs": [],
   "source": [
    "df['Diabetes_Type'].replace({2.0: 1.0},inplace = True)"
   ]
  },
  {
   "cell_type": "markdown",
   "id": "d3243468",
   "metadata": {},
   "source": [
    "# preprocessing"
   ]
  },
  {
   "cell_type": "markdown",
   "id": "c746a482",
   "metadata": {},
   "source": [
    "#### Display missing values through a library Dataprep.Eda"
   ]
  },
  {
   "cell_type": "code",
   "execution_count": null,
   "id": "ad313641",
   "metadata": {},
   "outputs": [],
   "source": [
    "plot_missing(df) "
   ]
  },
  {
   "cell_type": "markdown",
   "id": "2fa9c209",
   "metadata": {},
   "source": [
    "# Visualze the correlation "
   ]
  },
  {
   "cell_type": "code",
   "execution_count": null,
   "id": "d5056110",
   "metadata": {
    "scrolled": true
   },
   "outputs": [],
   "source": [
    "df.corr()"
   ]
  },
  {
   "cell_type": "code",
   "execution_count": null,
   "id": "b5dec844",
   "metadata": {},
   "outputs": [],
   "source": [
    "corr = df.corr()\n",
    "fig, ax = plt.subplots(figsize=(25,15)) \n",
    "sns.heatmap(corr,annot=True, cmap = \"Blues\", linewidth = 0.30)\n",
    "plt.title(\"Correlation matrix of features\",fontweight=\"bold\",fontsize=20)\n",
    "plt.show()"
   ]
  },
  {
   "cell_type": "code",
   "execution_count": null,
   "id": "3f7c6234",
   "metadata": {},
   "outputs": [],
   "source": [
    "df['Diabetes_Type'] = df['Diabetes_Type'].astype('int')"
   ]
  },
  {
   "cell_type": "code",
   "execution_count": null,
   "id": "02b1d7ef",
   "metadata": {},
   "outputs": [],
   "source": [
    "###--------------- Add new Columns to Visualzation ----------------#####"
   ]
  },
  {
   "cell_type": "code",
   "execution_count": null,
   "id": "1603bc8a",
   "metadata": {},
   "outputs": [],
   "source": [
    "df['Diabetes']=df['Diabetes_Type']"
   ]
  },
  {
   "cell_type": "code",
   "execution_count": null,
   "id": "020bfec8",
   "metadata": {},
   "outputs": [],
   "source": [
    "df['Diabetes'] = df['Diabetes_Type'].map({0:'No Diabetes', 1:'Diabetes'})"
   ]
  },
  {
   "cell_type": "code",
   "execution_count": null,
   "id": "ddb397d2",
   "metadata": {},
   "outputs": [],
   "source": [
    "df['High_blood']=df['HighBP']\n",
    "df['High_Cholesterol']=df['HighChol']\n",
    "df['Heart_Attack']=df['HeartDiseaseorAttack']\n",
    "df['Genral_Health']=df['GenHlth']\n",
    "df['Difficulty_Walking']=df['DiffWalk']\n",
    "df['Sex_Part']=df['Sex']\n",
    "df['Education_level']=df['Education']\n",
    "df['Income_level']=df['Income']"
   ]
  },
  {
   "cell_type": "code",
   "execution_count": null,
   "id": "14d93627",
   "metadata": {},
   "outputs": [],
   "source": [
    "df['High_blood'] = df['HighBP'].map({0:'No High',1:'High BP'})\n",
    "df['High_Cholesterol'] = df['HighChol'].map({0:'No High Cholesterol',1:'High Cholesterol'})\n",
    "df['Heart_Attack'] = df['HeartDiseaseorAttack'].map({0:'No',1:'yes'})\n",
    "df['Genral_Health'] = df['GenHlth'].map({1:'Excellent',2:'Very Good',3:'Good',4:'Fair',5:'Poor'})\n",
    "df['Difficulty_Walking'] = df['DiffWalk'].map({0:'No',1:'yes'})\n",
    "df['Sex_Part'] = df['Sex'].map({0:'Female',1:'Male'})\n",
    "df['Education_level'] = df['Education'].map({1:'Never Attended School', 2:'Elementary',3:'Junior High School',4:'Senior High School',5:'Undergraduate Degree',6:'Master'})\n",
    "df['Income_level'] = df['Income'].map({1:'Less Than $10,000',2:'Less Than $10,000',3:'Less Than $10,000',4:'Less Than $10,000',5:'Less Than $35,000',6:'Less Than $35,000',7:'Less Than $35,000',8:'$75,000 or More'})"
   ]
  },
  {
   "cell_type": "code",
   "execution_count": null,
   "id": "f2234593",
   "metadata": {},
   "outputs": [],
   "source": [
    "df.head()"
   ]
  },
  {
   "cell_type": "code",
   "execution_count": null,
   "id": "1131bb72",
   "metadata": {},
   "outputs": [],
   "source": [
    "df.info()"
   ]
  },
  {
   "cell_type": "code",
   "execution_count": null,
   "id": "15a86419",
   "metadata": {},
   "outputs": [],
   "source": [
    "Diabetes1=df['Diabetes_Type']\n",
    "Diabetes1.value_counts()"
   ]
  },
  {
   "cell_type": "code",
   "execution_count": null,
   "id": "a5e119fb",
   "metadata": {},
   "outputs": [],
   "source": [
    "color=['LightBlue','SteelBlue']\n",
    "f,ax=plt.subplots(1,2,figsize=(15,8))\n",
    "df['Diabetes'].value_counts().plot.pie(explode=[0,0.1],colors=color,autopct='%1.1f%%',ax=ax[0],shadow=True)\n",
    "ax[0].set_title('Diabetes type',fontweight=\"bold\")\n",
    "ax[0].set_ylabel('')\n",
    "sns.countplot('Diabetes',data =df, ax=ax[1],palette='Blues_r')\n",
    "ax[1].set_title('Diabetes Type',fontweight=\"bold\")\n",
    "plt.show()"
   ]
  },
  {
   "cell_type": "code",
   "execution_count": null,
   "id": "68cfc063",
   "metadata": {},
   "outputs": [],
   "source": [
    "plt.figure(figsize = (20,10))\n",
    "sns.displot(data=df, x=\"Age\", hue='Diabetes', multiple=\"stack\", kind=\"kde\",palette=\"Blues\")\n",
    "plt.title(\"Distribuation Age \",fontweight=\"bold\")\n",
    "plt.show()"
   ]
  },
  {
   "cell_type": "code",
   "execution_count": null,
   "id": "9731c238",
   "metadata": {
    "scrolled": false
   },
   "outputs": [],
   "source": [
    "diabetes_bp = df.groupby(['Diabetes', 'High_blood']).size().reset_index(name = 'Count')\n",
    "print(diabetes_bp)"
   ]
  },
  {
   "cell_type": "code",
   "execution_count": null,
   "id": "b6b76932",
   "metadata": {},
   "outputs": [],
   "source": [
    "plt.figure(figsize = (8,6))\n",
    "sns.barplot(x = 'Diabetes', y = 'Count', hue = 'High_blood', data =diabetes_bp , palette=\"Blues\")\n",
    "plt.title(\"Dibaetes Status And High_blood \",fontweight=\"bold\")\n",
    "plt.show()"
   ]
  },
  {
   "cell_type": "code",
   "execution_count": null,
   "id": "0efd51f9",
   "metadata": {},
   "outputs": [],
   "source": [
    "diabetes_bp = df.groupby(['Diabetes', 'High_Cholesterol']).size().reset_index(name = 'Count')\n",
    "print(diabetes_bp)"
   ]
  },
  {
   "cell_type": "code",
   "execution_count": null,
   "id": "b73e72b5",
   "metadata": {},
   "outputs": [],
   "source": [
    "plt.figure(figsize = (8,6))\n",
    "sns.barplot(x = 'Diabetes', y = 'Count', hue = 'High_Cholesterol', data =diabetes_bp,palette=\"Blues\")\n",
    "plt.title(\"Dibaetes Status And Cholesterol \",fontweight=\"bold\")\n",
    "plt.show()"
   ]
  },
  {
   "cell_type": "code",
   "execution_count": null,
   "id": "550137cd",
   "metadata": {},
   "outputs": [],
   "source": [
    "diabetes_bp = df.groupby(['Diabetes', 'Heart_Attack']).size().reset_index(name = 'Count')\n",
    "print(diabetes_bp)"
   ]
  },
  {
   "cell_type": "code",
   "execution_count": null,
   "id": "45c00ef5",
   "metadata": {},
   "outputs": [],
   "source": [
    "plt.figure(figsize = (8,6))\n",
    "sns.barplot(x = 'Diabetes', y = 'Count', hue = 'Heart_Attack', data =diabetes_bp ,palette=\"Blues\")\n",
    "plt.title(\"Dibaetes Status And Heart Diseaseor Attack \",fontweight=\"bold\")\n",
    "plt.show()"
   ]
  },
  {
   "cell_type": "code",
   "execution_count": null,
   "id": "f04fd767",
   "metadata": {},
   "outputs": [],
   "source": [
    "diabetes_bp = df.groupby(['Diabetes', 'Genral_Health']).size().reset_index(name = 'Count')\n",
    "print(diabetes_bp)"
   ]
  },
  {
   "cell_type": "code",
   "execution_count": null,
   "id": "a565fc92",
   "metadata": {},
   "outputs": [],
   "source": [
    "plt.figure(figsize = (8,6))\n",
    "sns.barplot(x = 'Diabetes', y = 'Count', hue = 'Genral_Health', data =diabetes_bp, palette=\"Blues\")\n",
    "plt.title(\"Dibaetes Status And Genral Health \",fontweight=\"bold\")\n",
    "plt.show()"
   ]
  },
  {
   "cell_type": "code",
   "execution_count": null,
   "id": "1652ff11",
   "metadata": {},
   "outputs": [],
   "source": [
    "diabetes_bp = df.groupby(['Diabetes', 'Difficulty_Walking']).size().reset_index(name ='Count')\n",
    "print(diabetes_bp)"
   ]
  },
  {
   "cell_type": "code",
   "execution_count": null,
   "id": "60c20e14",
   "metadata": {},
   "outputs": [],
   "source": [
    "plt.figure(figsize = (8,6))\n",
    "sns.barplot(x = 'Diabetes', y = 'Count', hue = 'Difficulty_Walking', data =diabetes_bp,palette=\"Blues\")\n",
    "plt.title(\"Dibaetes Status And Difficulty Walking \",fontweight=\"bold\")\n",
    "plt.show()"
   ]
  },
  {
   "cell_type": "code",
   "execution_count": null,
   "id": "0bb9993d",
   "metadata": {},
   "outputs": [],
   "source": [
    "diabetes_bp = df.groupby(['Diabetes','Sex_Part']).size().reset_index(name ='Count')\n",
    "print(diabetes_bp)"
   ]
  },
  {
   "cell_type": "code",
   "execution_count": null,
   "id": "329f244f",
   "metadata": {},
   "outputs": [],
   "source": [
    "plt.figure(figsize = (8,6))\n",
    "sns.barplot(x = 'Diabetes', y = 'Count', hue = 'Sex_Part', data =diabetes_bp , palette=\"Blues\")\n",
    "plt.title(\"Dibaetes Status And Sex \",fontweight=\"bold\")\n",
    "plt.show()"
   ]
  },
  {
   "cell_type": "code",
   "execution_count": null,
   "id": "69bec13b",
   "metadata": {},
   "outputs": [],
   "source": [
    "diabetes_bp = df.groupby(['Diabetes','Education_level']).size().reset_index(name ='Count')\n",
    "print(diabetes_bp)\n"
   ]
  },
  {
   "cell_type": "code",
   "execution_count": null,
   "id": "2527c49e",
   "metadata": {},
   "outputs": [],
   "source": [
    "plt.figure(figsize = (8,6))\n",
    "sns.barplot(x = 'Diabetes', y = 'Count', hue = 'Education_level', data =diabetes_bp, palette=\"Blues\")\n",
    "plt.title(\"Dibaetes Status And Education \",fontweight=\"bold\")\n",
    "plt.show()"
   ]
  },
  {
   "cell_type": "code",
   "execution_count": null,
   "id": "aed85732",
   "metadata": {},
   "outputs": [],
   "source": [
    "diabetes_bp = df.groupby(['Diabetes','Income_level']).size().reset_index(name ='Count')\n",
    "print(diabetes_bp)"
   ]
  },
  {
   "cell_type": "code",
   "execution_count": null,
   "id": "79b84132",
   "metadata": {},
   "outputs": [],
   "source": [
    "plt.figure(figsize = (8,6))\n",
    "sns.barplot(x = 'Diabetes', y = 'Count', hue = 'Income_level', data =diabetes_bp,palette=\"Blues\")\n",
    "plt.title(\"Dibaetes Status And Income \",fontweight=\"bold\")\n",
    "plt.show()"
   ]
  },
  {
   "cell_type": "code",
   "execution_count": null,
   "id": "5016763d",
   "metadata": {},
   "outputs": [],
   "source": [
    "diabetes_bp1= df.groupby(['Diabetes','Age']).size().reset_index(name ='Count')\n",
    "print(diabetes_bp)"
   ]
  },
  {
   "cell_type": "code",
   "execution_count": null,
   "id": "91c296e4",
   "metadata": {},
   "outputs": [],
   "source": [
    "df.shape"
   ]
  },
  {
   "cell_type": "code",
   "execution_count": null,
   "id": "e7742ddb",
   "metadata": {},
   "outputs": [],
   "source": [
    "diabetes_bp2 = df.groupby(['Diabetes','BMI']).size().reset_index(name ='Count')\n",
    "print(diabetes_bp2)"
   ]
  },
  {
   "cell_type": "code",
   "execution_count": null,
   "id": "bccc016d",
   "metadata": {},
   "outputs": [],
   "source": [
    "cat_cols = ['Diabetes', 'High_blood', 'High_Cholesterol', 'Heart_Attack', \n",
    "                    'PhysActivity', 'Genral_Health','Difficulty_Walking', 'Age']"
   ]
  },
  {
   "cell_type": "code",
   "execution_count": null,
   "id": "5f647afa",
   "metadata": {},
   "outputs": [],
   "source": [
    "fig, ax = plt.subplots(2, 4, figsize=(35,25))\n",
    "for variable, subplot in zip(cat_cols[:8], ax.flatten()):\n",
    "    sns.countplot(df[variable],hue=df['Diabetes'], ax=subplot, palette='Blues')\n",
    "    for label in subplot.get_xticklabels():\n",
    "        label.set_rotation(90)"
   ]
  },
  {
   "cell_type": "code",
   "execution_count": null,
   "id": "6dbaf6d5",
   "metadata": {},
   "outputs": [],
   "source": [
    "df.shape"
   ]
  },
  {
   "cell_type": "code",
   "execution_count": null,
   "id": "ebc16b0d",
   "metadata": {},
   "outputs": [],
   "source": [
    "create_report(df)"
   ]
  },
  {
   "cell_type": "code",
   "execution_count": null,
   "id": "f2061603",
   "metadata": {},
   "outputs": [],
   "source": [
    "df.columns\n"
   ]
  },
  {
   "cell_type": "code",
   "execution_count": null,
   "id": "bf3db939",
   "metadata": {},
   "outputs": [],
   "source": [
    "df.shape"
   ]
  },
  {
   "cell_type": "code",
   "execution_count": null,
   "id": "efda6c84",
   "metadata": {},
   "outputs": [],
   "source": [
    "####---------------- End of ED ---------------------###\n"
   ]
  },
  {
   "cell_type": "code",
   "execution_count": null,
   "id": "4980a31a",
   "metadata": {},
   "outputs": [],
   "source": [
    "smaller_df=df.loc[:,['Diabetes_Type', 'HighBP', 'HighChol', 'BMI', 'HeartDiseaseorAttack','PhysActivity', 'GenHlth','MentHlth','DiffWalk', 'Age']]\n"
   ]
  },
  {
   "cell_type": "code",
   "execution_count": null,
   "id": "cf031f33",
   "metadata": {},
   "outputs": [],
   "source": [
    "sns.set_theme(style=\"Blues\")\n",
    "sns.pairplot(smaller_df, hue=\"Diabetes_Type\",corner=True)"
   ]
  }
 ],
 "metadata": {
  "kernelspec": {
   "display_name": "Python 3",
   "language": "python",
   "name": "python3"
  },
  "language_info": {
   "codemirror_mode": {
    "name": "ipython",
    "version": 3
   },
   "file_extension": ".py",
   "mimetype": "text/x-python",
   "name": "python",
   "nbconvert_exporter": "python",
   "pygments_lexer": "ipython3",
   "version": "3.8.8"
  }
 },
 "nbformat": 4,
 "nbformat_minor": 5
}
