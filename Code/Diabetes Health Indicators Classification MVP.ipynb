{
 "cells": [
  {
   "cell_type": "markdown",
   "id": "b8e6cbf2",
   "metadata": {},
   "source": [
    "# Import Libraries"
   ]
  },
  {
   "cell_type": "code",
   "execution_count": null,
   "id": "f22c14a9",
   "metadata": {},
   "outputs": [],
   "source": [
    "#Python libraries\n",
    "#Classic,data manipulation \n",
    "import numpy as np\n",
    "import pandas as pd\n",
    "# Plots\n",
    "import plotly.graph_objects as go\n",
    "import plotly.offline as po\n",
    "from plotly.offline import download_plotlyjs, init_notebook_mode, plot, iplot\n",
    "import matplotlib.pyplot as plt\n",
    "import seaborn as sns\n",
    "import dash\n",
    "import plotly.express as px\n",
    "import random\n",
    "import plotly.figure_factory as ff\n",
    "from plotly import tools\n",
    "from plotly.subplots import make_subplots\n",
    "from plotly.offline import iplot\n",
    "import warnings\n",
    "warnings.filterwarnings(\"ignore\")\n",
    "pd.set_option(\"display.max_rows\",None)\n",
    "from sklearn import preprocessing \n",
    "%matplotlib inline\n",
    "import seaborn as sns\n",
    "import matplotlib.pyplot as plt\n",
    "%matplotlib inline\n",
    "import plotly.offline as py\n",
    "import plotly.graph_objs as go\n",
    "from plotly.offline import download_plotlyjs, init_notebook_mode, plot, iplot\n",
    "import plotly.tools as tls\n",
    "import plotly.figure_factory as ff\n",
    "py.init_notebook_mode(connected=True)\n",
    "# Dataprep\n",
    "from dataprep.eda import create_report\n",
    "from dataprep.eda import plot_missing\n",
    "from dataprep.eda import plot_correlation\n",
    "from dataprep.eda import plot\n",
    "# Modeling \n",
    "from sklearn.neighbors import KNeighborsClassifier\n",
    "from sklearn.ensemble import RandomForestClassifier\n",
    "from imblearn.combine import SMOTEENN #resampling\n",
    "from sklearn import datasets, linear_model, metrics\n",
    "from sklearn.metrics import accuracy_score, confusion_matrix, classification_report,f1_score\n",
    "from sklearn.preprocessing import StandardScaler\n",
    "from sklearn.model_selection import train_test_split\n",
    "from sklearn.ensemble import RandomForestClassifier\n",
    "from sklearn.model_selection import RandomizedSearchCV\n",
    "from sklearn.model_selection import cross_val_score\n"
   ]
  },
  {
   "cell_type": "markdown",
   "id": "e7e90c47",
   "metadata": {},
   "source": [
    "# Load Dataset "
   ]
  },
  {
   "cell_type": "code",
   "execution_count": null,
   "id": "68a55880",
   "metadata": {
    "scrolled": true
   },
   "outputs": [],
   "source": [
    "df=pd.read_csv(\"diabetes_012_health_indicators_BRFSS2015.csv\") \n",
    "df.head()"
   ]
  },
  {
   "cell_type": "code",
   "execution_count": null,
   "id": "f3c8684e",
   "metadata": {},
   "outputs": [],
   "source": []
  },
  {
   "cell_type": "markdown",
   "id": "9a467133",
   "metadata": {},
   "source": [
    "# Explore Dataset"
   ]
  },
  {
   "cell_type": "code",
   "execution_count": null,
   "id": "ca08bfbe",
   "metadata": {},
   "outputs": [],
   "source": [
    "df.info()"
   ]
  },
  {
   "cell_type": "code",
   "execution_count": null,
   "id": "4bec0217",
   "metadata": {},
   "outputs": [],
   "source": [
    "df.shape"
   ]
  },
  {
   "cell_type": "code",
   "execution_count": null,
   "id": "2b791aa7",
   "metadata": {},
   "outputs": [],
   "source": [
    "df.sample(10)"
   ]
  },
  {
   "cell_type": "code",
   "execution_count": null,
   "id": "7b6dbfc1",
   "metadata": {},
   "outputs": [],
   "source": [
    "df.columns"
   ]
  },
  {
   "cell_type": "code",
   "execution_count": null,
   "id": "d41af7c6",
   "metadata": {
    "scrolled": true
   },
   "outputs": [],
   "source": [
    "# to rename the some columns important of dataset\n",
    "df.rename(columns={'Diabetes_012': 'Diabetes_Type','HighBP': 'High blood pressure','HighChol':'High cholesterol','GenHlth':'General Health','DiffWalk':'Difficulty Walking'}, inplace=True)\n",
    "df.head()"
   ]
  },
  {
   "cell_type": "markdown",
   "id": "8b5dbef2",
   "metadata": {},
   "source": [
    "# Cleaning Dataset"
   ]
  },
  {
   "cell_type": "code",
   "execution_count": null,
   "id": "e314c7da",
   "metadata": {},
   "outputs": [],
   "source": [
    "df.isna().sum() # No missing value"
   ]
  },
  {
   "cell_type": "markdown",
   "id": "c746a482",
   "metadata": {},
   "source": [
    "#### Display missing values through a library Dataprep.Eda"
   ]
  },
  {
   "cell_type": "code",
   "execution_count": null,
   "id": "ad313641",
   "metadata": {},
   "outputs": [],
   "source": [
    "#plot_missing(df) "
   ]
  },
  {
   "cell_type": "markdown",
   "id": "2fa9c209",
   "metadata": {},
   "source": [
    "# Visualze the correlation "
   ]
  },
  {
   "cell_type": "code",
   "execution_count": null,
   "id": "d5056110",
   "metadata": {
    "scrolled": true
   },
   "outputs": [],
   "source": [
    "df.corr()"
   ]
  },
  {
   "cell_type": "code",
   "execution_count": null,
   "id": "b5dec844",
   "metadata": {},
   "outputs": [],
   "source": [
    "corr = df.corr()\n",
    "fig, ax = plt.subplots(figsize=(25,15)) \n",
    "sns.heatmap(corr,annot=True, cmap = \"RdBu\", linewidth = 0.30)\n",
    "plt.title(\"Correlation matrix of features\")\n",
    "plt.show()"
   ]
  },
  {
   "cell_type": "code",
   "execution_count": null,
   "id": "6841ee38",
   "metadata": {},
   "outputs": [],
   "source": [
    "df.Diabetes_Type.unique()"
   ]
  },
  {
   "cell_type": "code",
   "execution_count": null,
   "id": "2f6a3348",
   "metadata": {
    "scrolled": true
   },
   "outputs": [],
   "source": [
    "Diabetes=df['Diabetes_Type']\n",
    "Diabetes.value_counts()"
   ]
  },
  {
   "cell_type": "code",
   "execution_count": null,
   "id": "10de13c7",
   "metadata": {},
   "outputs": [],
   "source": [
    "df['Diabetes_Type'].replace({2.0: 1.0},inplace = True)"
   ]
  },
  {
   "cell_type": "code",
   "execution_count": null,
   "id": "cde922b3",
   "metadata": {},
   "outputs": [],
   "source": [
    "Diabetes=df['Diabetes_Type']\n",
    "Diabetes.value_counts()"
   ]
  },
  {
   "cell_type": "code",
   "execution_count": null,
   "id": "b5072077",
   "metadata": {},
   "outputs": [],
   "source": [
    "#fig = px.pie(df['Diabetes_Type'].value_counts().reset_index(), values='Diabetes_Type', names=['No diabetes ', 'Diabetes'])\n",
    "#fig.update_traces(textposition='outside', textinfo='percent+label', )\n",
    "#fig.show()"
   ]
  },
  {
   "cell_type": "code",
   "execution_count": null,
   "id": "abd74f02",
   "metadata": {},
   "outputs": [],
   "source": [
    "df['Diabetes']=df['Diabetes_Type']"
   ]
  },
  {
   "cell_type": "code",
   "execution_count": null,
   "id": "ef359390",
   "metadata": {},
   "outputs": [],
   "source": [
    "df['Diabetes'] = df['Diabetes_Type'].map({0.0:'No Diabetes', 1.0:'Diabetes'})"
   ]
  },
  {
   "cell_type": "code",
   "execution_count": null,
   "id": "5dd65616",
   "metadata": {},
   "outputs": [],
   "source": [
    "df.head()"
   ]
  },
  {
   "cell_type": "code",
   "execution_count": null,
   "id": "ea323c65",
   "metadata": {},
   "outputs": [],
   "source": [
    "#px.histogram(df, x=df['BMI'], title=\"The relationship between BMI and Diabetes\", color=\"Diabetes\")"
   ]
  },
  {
   "cell_type": "code",
   "execution_count": null,
   "id": "a9adcc6f",
   "metadata": {},
   "outputs": [],
   "source": [
    "#px.histogram(df, x=df['HeartDiseaseorAttack'], title=\"Heart Diseaseor Attack vs. Diabetes\", color=\"Diabetes\")"
   ]
  },
  {
   "cell_type": "code",
   "execution_count": null,
   "id": "093148b6",
   "metadata": {},
   "outputs": [],
   "source": [
    "sns.set(style=\"darkgrid\")\n",
    "sns.kdeplot(data=df['Age'], shade=True)"
   ]
  },
  {
   "cell_type": "code",
   "execution_count": null,
   "id": "ebc16b0d",
   "metadata": {},
   "outputs": [],
   "source": [
    "#create_report(df)"
   ]
  },
  {
   "cell_type": "code",
   "execution_count": null,
   "id": "023608a7",
   "metadata": {},
   "outputs": [],
   "source": [
    "diabetes_bp = df.groupby(['Diabetes_Type', 'High blood pressure']).size().reset_index(name = 'Count')\n",
    "print(diabetes_bp)"
   ]
  },
  {
   "cell_type": "code",
   "execution_count": null,
   "id": "8fe4e626",
   "metadata": {},
   "outputs": [],
   "source": [
    "plt.figure(figsize = (8,6))\n",
    "sns.barplot(x = 'Diabetes_Type', y = 'Count', hue = 'High blood pressure', data = diabetes_bp, palette = 'Set1')\n",
    "plt.title(\"Dibaetes Status ~ BP\")\n",
    "plt.show()"
   ]
  },
  {
   "cell_type": "code",
   "execution_count": null,
   "id": "3f7c6234",
   "metadata": {},
   "outputs": [],
   "source": [
    "df['Diabetes_Type'] = df['Diabetes_Type'].astype('int')"
   ]
  },
  {
   "cell_type": "markdown",
   "id": "1bbf0aa7",
   "metadata": {},
   "source": [
    "## Experiment 1: Split data to training,validation and test set"
   ]
  },
  {
   "cell_type": "code",
   "execution_count": null,
   "id": "fac7a5e3",
   "metadata": {},
   "outputs": [],
   "source": [
    "df_train_val, df_test = train_test_split(df, test_size=0.20, random_state=0)\n",
    "df_train, df_val = train_test_split(df_train_val, test_size=0.20, random_state=0)"
   ]
  },
  {
   "cell_type": "code",
   "execution_count": null,
   "id": "98f193dc",
   "metadata": {},
   "outputs": [],
   "source": [
    "# The figure above display the correlation between the features and the target, for this i choose only these features\n",
    "x_train,y_train = df_train.drop(['Diabetes_Type','Diabetes'],axis=1),df_train['Diabetes_Type']\n",
    "x_val,y_val = df_val.drop(['Diabetes_Type','Diabetes'],axis=1),df_val['Diabetes_Type']\n",
    "x_test,y_test = df_test.drop(['Diabetes_Type','Diabetes'],axis=1),df_test['Diabetes_Type']"
   ]
  },
  {
   "cell_type": "code",
   "execution_count": null,
   "id": "c485cc45",
   "metadata": {},
   "outputs": [],
   "source": [
    "print(x_train.shape)\n",
    "print(x_val.shape)\n",
    "print(x_test.shape)"
   ]
  },
  {
   "cell_type": "code",
   "execution_count": null,
   "id": "9077a404",
   "metadata": {},
   "outputs": [],
   "source": [
    "# Train on training set, and Test on testing set\n",
    "knn = KNeighborsClassifier(n_neighbors=5)\n",
    "knn.fit(x_train, y_train)\n",
    "print(\"The score for kNN is\")\n",
    "print(\"Training set: {:6.2f}%\".format(100*knn.score(x_train, y_train)))\n",
    "print(\"Validation set: {:6.2f}%\".format(100*knn.score(x_val, y_val)))\n",
    "print(\"Test set: {:6.2f}%\".format(100*knn.score(x_test, y_test)))"
   ]
  },
  {
   "cell_type": "code",
   "execution_count": null,
   "id": "d21c9ab4",
   "metadata": {},
   "outputs": [],
   "source": [
    "y_pred = knn.predict(x_val)\n",
    "print(metrics.accuracy_score(y_val, y_pred))"
   ]
  },
  {
   "cell_type": "code",
   "execution_count": null,
   "id": "ff1a7401",
   "metadata": {},
   "outputs": [],
   "source": [
    "#test the baseline model\n",
    "test_pred=knn.predict(x_test)\n",
    "print(\"\\nKNN Accuracy for test set=\",accuracy_score(y_test, test_pred))\n",
    "print(\"KNN F1 score for test set=\",f1_score(y_test, test_pred))"
   ]
  },
  {
   "cell_type": "markdown",
   "id": "3425b8e6",
   "metadata": {},
   "source": [
    "### Experiment 2: Knn by using cross vaidation"
   ]
  },
  {
   "cell_type": "code",
   "execution_count": null,
   "id": "e00645aa",
   "metadata": {},
   "outputs": [],
   "source": [
    "knn = KNeighborsClassifier(n_neighbors=5)\n",
    "scores = cross_val_score(knn, x_train, y_train, cv=10, scoring='accuracy')\n",
    "print(scores)"
   ]
  },
  {
   "cell_type": "code",
   "execution_count": null,
   "id": "63fb166e",
   "metadata": {},
   "outputs": [],
   "source": [
    "# use average accuracy as an estimate of out-of-sample accuracy\n",
    "print(scores.mean())"
   ]
  },
  {
   "cell_type": "code",
   "execution_count": null,
   "id": "02cf040a",
   "metadata": {},
   "outputs": [],
   "source": [
    "# search for an optimal value of K for KNN\n",
    "k_range = list(range(1, 31))\n",
    "k_scores = []\n",
    "for k in k_range:\n",
    "    knn = KNeighborsClassifier(n_neighbors=k)\n",
    "    scores = cross_val_score(knn, x_train, y_train, cv=10, scoring='accuracy')\n",
    "    k_scores.append(scores.mean())\n",
    "print(k_scores)"
   ]
  },
  {
   "cell_type": "code",
   "execution_count": null,
   "id": "c172d65f",
   "metadata": {},
   "outputs": [],
   "source": [
    "import matplotlib.pyplot as plt\n",
    "%matplotlib inline\n",
    "\n",
    "# plot the value of K for KNN (x-axis) versus the cross-validated accuracy (y-axis)\n",
    "plt.plot(k_range, k_scores)\n",
    "plt.xlabel('Value of K for KNN')\n",
    "plt.ylabel('Cross-Validated Accuracy')"
   ]
  },
  {
   "cell_type": "code",
   "execution_count": null,
   "id": "de87e6d7",
   "metadata": {},
   "outputs": [],
   "source": []
  }
 ],
 "metadata": {
  "kernelspec": {
   "display_name": "Python 3",
   "language": "python",
   "name": "python3"
  },
  "language_info": {
   "codemirror_mode": {
    "name": "ipython",
    "version": 3
   },
   "file_extension": ".py",
   "mimetype": "text/x-python",
   "name": "python",
   "nbconvert_exporter": "python",
   "pygments_lexer": "ipython3",
   "version": "3.8.8"
  }
 },
 "nbformat": 4,
 "nbformat_minor": 5
}
